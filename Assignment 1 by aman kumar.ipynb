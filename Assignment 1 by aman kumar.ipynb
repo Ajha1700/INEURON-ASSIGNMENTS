{
 "cells": [
  {
   "cell_type": "code",
   "execution_count": null,
   "id": "849e0722",
   "metadata": {},
   "outputs": [],
   "source": [
    "1. In the below elements which of them are values or an expression? \n",
    "\n",
    "ANSWER\n",
    "eg:- values can be integer or string and expressions will be mathematical operators.\n",
    "1. *       -         mathematical (Arithmetic) operator used for multiplication\n",
    "2. 'hello' -         string\n",
    "3. -87.8   -         float\n",
    "4. -       -         mathematical(Arithmetic) operator used for substraction\n",
    "5. /       -         mathematical(Arithmetic) operator used for division\n",
    "6. +       -         mathematical (Arithmetic) operator used for addition\n",
    "7. 6       -         integer"
   ]
  },
  {
   "cell_type": "code",
   "execution_count": null,
   "id": "c03af05b",
   "metadata": {},
   "outputs": [],
   "source": [
    "2. What is the difference between string and variable?\n",
    "ANSWER\n",
    "\n",
    "Strings in Python are identified as a contiguous set of characters represented in the \n",
    "quotation marks. Python allows either pair of single or double quotes. Subsets of strings \n",
    "can be taken using the slice operator ([ ] and [:] ) with indexes starting at 0 in the \n",
    "beginning of the string and working their way from -1 to the end.\n",
    "Where as\n",
    "Variables are nothing but reserved memory locations to store values. It means that when \n",
    "you create a variable, you reserve some space in the memory.\n",
    "Based on the data type of a variable, the interpreter allocates memory and decides what \n",
    "can be stored in the reserved memory. Therefore, by assigning different data types to the \n",
    "variables, you can store integers, decimals or characters in these variables.\n",
    "\n",
    "Variables are symbols that you can use to store data in a program.\n",
    "You can think of them as an empty box that you fill with some data or value. \n",
    "Strings are data, so we can use them to fill up a variable.\n"
   ]
  },
  {
   "cell_type": "code",
   "execution_count": null,
   "id": "b165a938",
   "metadata": {},
   "outputs": [],
   "source": [
    "3. Describe three different data types.\n",
    "ANSWER\n",
    "\n",
    "Python has various standard data types that are used to define the operations possible on them \n",
    "and the storage method for each of them.\n",
    "Python has six standard data types-\n",
    "1. Numbers(integers,float,complex)\n",
    "2. String\n",
    "3. List\n",
    "4. Tuple\n",
    "5. Dictionary\n",
    "6. sets\n",
    "\n",
    "1.Python Numbers\n",
    "Number data types store numeric values. Number objects are created when you assign a \n",
    "value to them. For example\u0002\n",
    "a = 1\n",
    "b = 10\n",
    "Python supports three different numerical types −\n",
    "1. int (signed integers) for example : 3,4,5,6\n",
    "2. float (floating point real values) for example: 5.6,788.5,-45.6\n",
    "3. complex (complex numbers) for example : 1+2j A complex number consists of an ordered pair of real floating-point numbers \n",
    "    denoted by x + yj, where x and y are real numbers and j is the imaginary unit.\n",
    "\n",
    "\n",
    "2.Python Strings\n",
    "Strings in Python are identified as a contiguous set of characters represented in the \n",
    "quotation marks. Python allows either pair of single or double quotes. Subsets of strings \n",
    "can be taken using the slice operator ([ ] and [:] ) with indexes starting at 0 in the \n",
    "beginning of the string and working their way from -1 to the end.\n",
    "for example: \"hello\",\"aman\",\"ineuron\"\n",
    "\n",
    "3.Python Lists\n",
    "Lists are the most versatile of Pythons compound data types.\n",
    "A list contains items separated by commas and enclosed within square brackets ([]). To some extent, lists are \n",
    "similar to arrays in C. One of the differences between them is that all the items belonging \n",
    "to a list can be of different data type.The values stored in a list can be accessed using the slice operator ([ ] and [:]) with \n",
    "indexes starting at 0 in the beginning of the list and working their way to end -1.\n",
    "for example:\n",
    "list = [ 'abcd', 786 , 2.23, 'john', 70.2 ]\n",
    "\n",
    "\n"
   ]
  },
  {
   "cell_type": "code",
   "execution_count": null,
   "id": "75f55266",
   "metadata": {},
   "outputs": [],
   "source": [
    "4. What is an expression made up of? What do all expressions do?\n",
    "ANSWER\n",
    "\n",
    "An expression is a combination of operators and operands that is interpreted to produce some other value. \n",
    "In any programming language, an expression is evaluated as per the precedence of its operators. \n",
    "So that if there is more than one operator in an expression,\n",
    "their precedence decides which operation will be performed first. \n",
    "We have many different types of expressions in Python. \n",
    "\n",
    "1. Constant Expressions: These are the expressions that have constant values only.\n",
    "    for example:\n",
    "        x = 15 + 1.3\n",
    "        print(x)\n",
    "        output = 16.3\n",
    "        \n",
    "2. Arithmetic Expressions: An arithmetic expression is a combination of numeric values, operators, and sometimes parenthesis.\n",
    "The result of this type of expression is also a numeric value.\n",
    "The operators used in these expressions are arithmetic operators like addition, subtraction, etc. \n",
    " for example:\n",
    "x = 40\n",
    "y = 12\n",
    "  \n",
    "add = x + y\n",
    "sub = x - y\n",
    "pro = x * y\n",
    "div = x / y\n",
    "  \n",
    "print(add)\n",
    "print(sub)\n",
    "print(pro)\n",
    "print(div)\n",
    "\n",
    "output :\n",
    "52\n",
    "28\n",
    "480\n",
    "3.3333333333333335\n",
    "\n",
    "3. Integral Expressions: \n",
    "These are the kind of expressions that produce only integer results after all computations and type conversions.\n",
    "\n",
    "Example:\n",
    "a = 13\n",
    "b = 12.0\n",
    "  \n",
    "c = a + int(b)\n",
    "print(c)\n",
    "\n",
    "output:\n",
    "25\n",
    "\n",
    "4. Floating Expressions:\n",
    "These are the kind of expressions which produce floating point numbers as result after all computations and type conversions.\n",
    "\n",
    "Example:\n",
    "a = 13\n",
    "b = 5\n",
    "  \n",
    "c = a / b\n",
    "print(c)\n",
    "\n",
    "output:\n",
    "2.6\n",
    "\n",
    "5. Relational Expressions:\n",
    "In these types of expressions, arithmetic expressions are written on both sides of relational operator (> , < , >= , <=). \n",
    "Those arithmetic expressions are evaluated first, and then compared as per relational operator and\n",
    "produce a boolean output in the end. These expressions are also called Boolean expressions.\n",
    "\n",
    "Example:\n",
    "a = 21\n",
    "b = 13\n",
    "c = 40\n",
    "d = 37\n",
    "  \n",
    "p = (a + b) >= (c - d)\n",
    "print(p)\n",
    "\n",
    "output:\n",
    "True\n",
    "\n",
    "6. Logical Expressions: \n",
    "    These are kinds of expressions that result in either True or False. \n",
    "    It basically specifies one or more conditions. \n",
    "    For example,\n",
    "    (10 == 9) is a condition if 10 is equal to 9. \n",
    "    As we know it is not correct, so it will return False.\n",
    "\n",
    "7. Bitwise Expressions: These are the kind of expressions in which computations are performed at bit level.\n",
    "\n",
    "Example:\n",
    "    a = 12\n",
    "  \n",
    "x = a >> 2\n",
    "y = a << 1\n",
    "  \n",
    "print(x, y)\n",
    "\n",
    "output:\n",
    "    3 24\n",
    "\n",
    "8. Combinational Expressions:\n",
    "We can also use different types of expressions in a single expression, and that will be termed as combinational expressions.\n",
    "\n",
    "Example:\n",
    "a = 16\n",
    "b = 12\n",
    "  \n",
    "c = a + (b >> 1)\n",
    "print(c)\n",
    "\n",
    "output:\n",
    "22\n"
   ]
  },
  {
   "cell_type": "code",
   "execution_count": null,
   "id": "5371200a",
   "metadata": {},
   "outputs": [],
   "source": [
    "5. This assignment statements, like spam = 10. What is the difference between an expression and a statement?\n",
    "ANSWER\n",
    "\n",
    "The main difference between an expression and a statement is that an expression produces a value \n",
    "while a statement performs an action.\n",
    "An expression is a combination of symbols that produces a value, while a statement is a line of code\n",
    "that performs some action or defines an object or variable. For example, the assignment statement \"spam = 10\"\n",
    "defines the variable \"spam\" and assigns it the value 10.An expression such as \"2 + 2\" evaluates to 4."
   ]
  },
  {
   "cell_type": "code",
   "execution_count": 4,
   "id": "c8ccfc05",
   "metadata": {},
   "outputs": [
    {
     "data": {
      "text/plain": [
       "23"
      ]
     },
     "execution_count": 4,
     "metadata": {},
     "output_type": "execute_result"
    }
   ],
   "source": [
    "#6. After running the following code, what does the variable bacon contain?\n",
    "\n",
    "bacon = 22\n",
    "bacon + 1\n",
    "output is 23\n"
   ]
  },
  {
   "cell_type": "code",
   "execution_count": 6,
   "id": "66793817",
   "metadata": {},
   "outputs": [
    {
     "name": "stdout",
     "output_type": "stream",
     "text": [
      "spamspamspam\n",
      "spamspamspam\n"
     ]
    }
   ],
   "source": [
    "#7. What should the values of the following two terms be?\n",
    "#'spam' + 'spamspam'\n",
    "#'spam' * 3\n",
    "print('spam' + 'spamspam')\n",
    "print('spam' * 3)\n",
    "output :\n",
    "spamspamspam\n",
    "spamspamspam\n",
    "  "
   ]
  },
  {
   "cell_type": "code",
   "execution_count": null,
   "id": "d4f8540d",
   "metadata": {},
   "outputs": [],
   "source": [
    "8. Why is eggs a valid variable name while 100 is invalid?\n",
    "ANSWER\n",
    "\n",
    "Eggs is a valid variable name because it is made up of alphanumeric characters and is not a reserved keyword.\n",
    "100 is invalid because it begins with a number, which is not allowed in variable names in most programming languages."
   ]
  },
  {
   "cell_type": "code",
   "execution_count": null,
   "id": "f8ba1a9b",
   "metadata": {},
   "outputs": [],
   "source": [
    "9. What three functions can be used to get the integer, floating-point number, or string version of a value?\n",
    "ANSWER\n",
    "\n",
    "1. int() - this function returns an integer version of a value. \n",
    "2. float() - this function returns a floating-point number version of a value. \n",
    "3. str() - this function returns a string version of a value. \n",
    "\n",
    "Example: \n",
    "x = 5.6\n",
    "\n",
    "int_x = int(x) # int_x = 5\n",
    "float_x = float(x) # float_x = 5.6\n",
    "str_x = str(x) # str_x = \"5.6\""
   ]
  },
  {
   "cell_type": "code",
   "execution_count": 7,
   "id": "0dd08fc0",
   "metadata": {},
   "outputs": [
    {
     "ename": "TypeError",
     "evalue": "can only concatenate str (not \"int\") to str",
     "output_type": "error",
     "traceback": [
      "\u001b[1;31m---------------------------------------------------------------------------\u001b[0m",
      "\u001b[1;31mTypeError\u001b[0m                                 Traceback (most recent call last)",
      "\u001b[1;32m~\\AppData\\Local\\Temp\\ipykernel_22492\\3650978176.py\u001b[0m in \u001b[0;36m<module>\u001b[1;34m\u001b[0m\n\u001b[0;32m      1\u001b[0m \u001b[1;31m#10. Why does this expression cause an error? How can you fix it?\u001b[0m\u001b[1;33m\u001b[0m\u001b[1;33m\u001b[0m\u001b[0m\n\u001b[1;32m----> 2\u001b[1;33m \u001b[1;34m'I have eaten '\u001b[0m \u001b[1;33m+\u001b[0m \u001b[1;36m99\u001b[0m \u001b[1;33m+\u001b[0m \u001b[1;34m' burritos.'\u001b[0m\u001b[1;33m\u001b[0m\u001b[1;33m\u001b[0m\u001b[0m\n\u001b[0m",
      "\u001b[1;31mTypeError\u001b[0m: can only concatenate str (not \"int\") to str"
     ]
    }
   ],
   "source": [
    "#10. Why does this expression cause an error? How can you fix it?\n",
    "'I have eaten ' + 99 + ' burritos.'\n"
   ]
  },
  {
   "cell_type": "code",
   "execution_count": null,
   "id": "3de8c2bb",
   "metadata": {},
   "outputs": [],
   "source": [
    "This expression causes an error because the + operator cannot be used to concatenate a string with an integer.\n",
    "To fix this expression, the integer must be converted to a string first using the str() function.\n",
    "The corrected expression will look like this:\n",
    "\n",
    "'I have eaten ' + str(99) + ' burritos.'"
   ]
  },
  {
   "cell_type": "code",
   "execution_count": 8,
   "id": "d0fdae2b",
   "metadata": {},
   "outputs": [
    {
     "data": {
      "text/plain": [
       "'I have eaten 99 burritos.'"
      ]
     },
     "execution_count": 8,
     "metadata": {},
     "output_type": "execute_result"
    }
   ],
   "source": [
    "'I have eaten ' + str(99) + ' burritos.'# correct way"
   ]
  },
  {
   "cell_type": "code",
   "execution_count": null,
   "id": "ac2e53b0",
   "metadata": {},
   "outputs": [],
   "source": []
  }
 ],
 "metadata": {
  "kernelspec": {
   "display_name": "Python 3 (ipykernel)",
   "language": "python",
   "name": "python3"
  },
  "language_info": {
   "codemirror_mode": {
    "name": "ipython",
    "version": 3
   },
   "file_extension": ".py",
   "mimetype": "text/x-python",
   "name": "python",
   "nbconvert_exporter": "python",
   "pygments_lexer": "ipython3",
   "version": "3.9.13"
  }
 },
 "nbformat": 4,
 "nbformat_minor": 5
}
