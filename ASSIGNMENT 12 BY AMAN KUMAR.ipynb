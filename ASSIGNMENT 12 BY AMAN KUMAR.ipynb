{
 "cells": [
  {
   "cell_type": "code",
   "execution_count": null,
   "id": "5e3f26d8",
   "metadata": {},
   "outputs": [],
   "source": [
    "1. In what modes should the PdfFileReader() and PdfFileWriter() File objects will be opened?\n",
    "\n",
    "ANSWER\n",
    "\n",
    "PdfFileReader() needs to be opened in read-binary mode by passing 'rb' as the second argument to open(). \n",
    "Likewise, the File object passed to PyPDF2. PdfFileWriter() needs to be opened in write-binary mode with 'wb'."
   ]
  },
  {
   "cell_type": "code",
   "execution_count": null,
   "id": "64abbb11",
   "metadata": {},
   "outputs": [],
   "source": [
    "2. From a PdfFileReader object, how do you get a Page object for page 5?\n",
    "\n",
    "ANSWER\n",
    "\n",
    "Calling getPage(4) will return a page object for page 5, since page 0 is the first page."
   ]
  },
  {
   "cell_type": "code",
   "execution_count": null,
   "id": "43778979",
   "metadata": {},
   "outputs": [],
   "source": [
    "3. What PdfFileReader variable stores the number of pages in the PDF document?\n",
    "\n",
    "ANSWER\n",
    "\n",
    "The total number of pages in the document is stored in the numPages variable of a PdfFileReader object."
   ]
  },
  {
   "cell_type": "code",
   "execution_count": null,
   "id": "6ed38ee1",
   "metadata": {},
   "outputs": [],
   "source": [
    "4. If a PdfFileReader object’s PDF is encrypted with the password swordfish, what must you do \n",
    "before you can obtain Page objects from it?\n",
    "\n",
    "ANSWER\n",
    "\n",
    "To read an encrypted PDF, call the decrypt() function and pass the password as a string, in our case it is swordfish.\n",
    "After we call decrypt() with the correct password, you’ll see that calling getPage() no longer causes an error.\n",
    "Call decrypt('swordfish')."
   ]
  },
  {
   "cell_type": "code",
   "execution_count": null,
   "id": "ef62097b",
   "metadata": {},
   "outputs": [],
   "source": [
    "5. What methods do you use to rotate a page?\n",
    "\n",
    "ANSWER\n",
    "\n",
    "The pages of a PDF can be rotated in 90-degree increments with the rotateClockwise() and rotateCounterClockwise() methods."
   ]
  },
  {
   "cell_type": "code",
   "execution_count": null,
   "id": "979d7b7e",
   "metadata": {},
   "outputs": [],
   "source": [
    "6. What is the difference between a Run object and a Paragraph object?\n",
    "\n",
    "ANSWER\n",
    "\n",
    "A document contains multiple paragraphs. A paragraph begins on a new line and contains multiple runs. \n",
    "Runs are contiguous groups of charecters within a paragraph."
   ]
  },
  {
   "cell_type": "code",
   "execution_count": null,
   "id": "70f10b49",
   "metadata": {},
   "outputs": [],
   "source": [
    "7. How do you obtain a list of Paragraph objects for a Document object that’s stored in a variable named doc?\n",
    "\n",
    "ANSWER\n",
    "\n",
    "len(doc.paragraphs)"
   ]
  },
  {
   "cell_type": "code",
   "execution_count": null,
   "id": "39664485",
   "metadata": {},
   "outputs": [],
   "source": [
    "8. What type of object has bold, underline, italic, strike, and outline variables?\n",
    "\n",
    "ANSWER\n",
    "\n",
    "Run Object"
   ]
  },
  {
   "cell_type": "code",
   "execution_count": null,
   "id": "445c767e",
   "metadata": {},
   "outputs": [],
   "source": [
    "9. What is the difference between False, True, and None for the bold variable?\n",
    "\n",
    "ANSWER\n",
    "\n",
    "True always makes the run object bolded and False makes it always not bolded, no matter what the style's bold settings is.\n",
    "None will make the Run object just use the style's bold settings."
   ]
  },
  {
   "cell_type": "code",
   "execution_count": null,
   "id": "06311c77",
   "metadata": {},
   "outputs": [],
   "source": [
    "10. How do you create a Document object for a new Word document?\n",
    "\n",
    "ANSWER\n",
    "\n",
    "mydoc = docx.Document()"
   ]
  },
  {
   "cell_type": "code",
   "execution_count": null,
   "id": "fdc57b35",
   "metadata": {},
   "outputs": [],
   "source": [
    "11. How do you add a paragraph with the text 'Hello, there!' to a Document object stored in a variable named doc?\n",
    "\n",
    "ANSWER\n",
    "\n",
    "doc.add_paragraph('Hello, there!')"
   ]
  },
  {
   "cell_type": "code",
   "execution_count": null,
   "id": "5683a3a9",
   "metadata": {},
   "outputs": [],
   "source": [
    "12. What integers represent the levels of headings available in Word documents?\n",
    "\n",
    "ANSWER\n",
    "\n",
    "The arguments to add_heading() are a string of the heading text and an integer from 0 to 4. \n",
    "The integer 0 makes the heading the Title style, which is used for the top of the document.\n",
    "Integers 1 to 4 are for various heading levels, with 1 being the main heading and 4 the lowest subheading.\n",
    "The add_heading() function returns a Paragraph object to save you the step of extracting it from the Document object \n",
    "as a separate step."
   ]
  }
 ],
 "metadata": {
  "kernelspec": {
   "display_name": "Python 3 (ipykernel)",
   "language": "python",
   "name": "python3"
  },
  "language_info": {
   "codemirror_mode": {
    "name": "ipython",
    "version": 3
   },
   "file_extension": ".py",
   "mimetype": "text/x-python",
   "name": "python",
   "nbconvert_exporter": "python",
   "pygments_lexer": "ipython3",
   "version": "3.9.13"
  }
 },
 "nbformat": 4,
 "nbformat_minor": 5
}
