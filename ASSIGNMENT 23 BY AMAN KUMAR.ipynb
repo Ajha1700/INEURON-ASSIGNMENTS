{
 "cells": [
  {
   "cell_type": "code",
   "execution_count": null,
   "id": "d68c28ca",
   "metadata": {},
   "outputs": [],
   "source": [
    "1. What is the result of the code, and why?\n",
    "def func(a, b=6, c=8):\n",
    "print(a, b, c)\n",
    "func(1, 2)\n",
    "\n",
    "ANSWER\n",
    "The line func() takes two values, that is 1 and 2 respectively, but the func() is defined to take 3 values, as in func() \n",
    "we pass only two values, the third value comes from the default value, that is c = 8."
   ]
  },
  {
   "cell_type": "code",
   "execution_count": 2,
   "id": "4653433d",
   "metadata": {},
   "outputs": [
    {
     "name": "stdout",
     "output_type": "stream",
     "text": [
      "1 2 8\n"
     ]
    }
   ],
   "source": [
    "def func(a, b=6, c=8):\n",
    "    print(a, b, c)\n",
    "func(1, 2)"
   ]
  },
  {
   "cell_type": "code",
   "execution_count": null,
   "id": "b31665f0",
   "metadata": {},
   "outputs": [],
   "source": [
    "2. What is the result of this code, and why?\n",
    ">>> def func(a, b, c=5):\n",
    "print(a, b, c)\n",
    ">>> func(1, c=3, b=2)\n",
    "\n",
    "ANSWER\n",
    "\n",
    "The line func() takes three values, that is 1 , c= 3 snd b = 2 respectively,the func() is defined to take 3 values,\n",
    "as in func() we pass othree values, the default values gets overwritten, and we get the newly passed values."
   ]
  },
  {
   "cell_type": "code",
   "execution_count": 3,
   "id": "97832184",
   "metadata": {},
   "outputs": [
    {
     "name": "stdout",
     "output_type": "stream",
     "text": [
      "1 2 3\n"
     ]
    }
   ],
   "source": [
    "def func(a, b, c=5):\n",
    "    print(a, b, c)\n",
    "func(1, c=3, b=2)"
   ]
  },
  {
   "cell_type": "code",
   "execution_count": null,
   "id": "69845539",
   "metadata": {},
   "outputs": [],
   "source": [
    "3. How about this code: what is its result, and why?\n",
    ">>> def func(a, *pargs):\n",
    "print(a, pargs)\n",
    ">>> func(1, 2, 3)\n",
    "\n",
    "ANSWER\n",
    "\n",
    "The special syntax pargs in function definitions in python is used to pass a variable number of arguments to a function.\n",
    "It is used to pass a non-key worded, variable-length argument list. The syntax is to use the symbol to take in a variable \n",
    "number of arguments; by convention, it is often used with the word args.\n",
    "\n",
    "What pargs allows you to do is take in more arguments than the number of formal arguments that you previously defined. \n",
    "With pargs, any number of extra arguments can be tacked on to your current formal parameters (including zero extra arguments)."
   ]
  },
  {
   "cell_type": "code",
   "execution_count": 4,
   "id": "c63f5103",
   "metadata": {},
   "outputs": [
    {
     "name": "stdout",
     "output_type": "stream",
     "text": [
      "1 (2, 3)\n"
     ]
    }
   ],
   "source": [
    "def func(a, *pargs):\n",
    "    print(a, pargs)\n",
    "func(1, 2, 3)"
   ]
  },
  {
   "cell_type": "code",
   "execution_count": null,
   "id": "69b3e819",
   "metadata": {},
   "outputs": [],
   "source": [
    "4. What does this code print, and why?\n",
    ">>> def func(a, **kargs):\n",
    "print(a, kargs)\n",
    ">>> func(a=1, c=3, b=2)\n",
    "\n",
    "ANSWER\n",
    "\n",
    "The special syntax **kargs in function definitions in python is used to pass a keyworded, variable-length argument list.\n",
    "We use the name kwargs with the double star. The reason is because the double star allows us to pass through keyword arguments\n",
    "(and any number of them)."
   ]
  },
  {
   "cell_type": "code",
   "execution_count": 5,
   "id": "703f449e",
   "metadata": {},
   "outputs": [
    {
     "name": "stdout",
     "output_type": "stream",
     "text": [
      "1 {'c': 3, 'b': 2}\n"
     ]
    }
   ],
   "source": [
    "def func(a, **kargs):\n",
    "    print(a, kargs)\n",
    "func(a=1, c=3, b=2)"
   ]
  },
  {
   "cell_type": "code",
   "execution_count": null,
   "id": "9503ebac",
   "metadata": {},
   "outputs": [],
   "source": [
    "5. What gets printed by this, and explain?\n",
    ">>> def func(a, b, c=8, d=5): print(a, b, c, d)\n",
    ">>> func(1, *(5, 6))\n",
    "\n",
    "ANSWER\n",
    "In this code, a function named func is defined which takes four parameters, namely a, b, c and d. The function simply \n",
    "prints the values of these parameters.\n",
    "\n",
    "In the next line, the function func is called with the arguments 1, *(5,6). The * before (5,6) is the unpacking operator,\n",
    "which unpacks the tuple (5,6) into two separate arguments 5 and 6. Therefore, the function call becomes func(1, 5, 6).\n",
    "\n",
    "The first argument 1 is assigned to the parameter a, the second argument 5 is assigned to the parameter b, and the \n",
    "third argument 6 is assigned to the parameter c. Since no value is provided for the parameter d, it takes its default \n",
    "value of 5.\n",
    "\n",
    "Finally, the function prints the values of a, b, c and d, which are 1, 5, 6, and 5 respectively."
   ]
  },
  {
   "cell_type": "code",
   "execution_count": 6,
   "id": "02208dd7",
   "metadata": {},
   "outputs": [
    {
     "name": "stdout",
     "output_type": "stream",
     "text": [
      "1 5 6 5\n"
     ]
    }
   ],
   "source": [
    "def func(a, b, c=8, d=5): \n",
    "    print(a, b, c, d)\n",
    "func(1, *(5, 6))"
   ]
  },
  {
   "cell_type": "code",
   "execution_count": null,
   "id": "233907c3",
   "metadata": {},
   "outputs": [],
   "source": [
    "6. what is the result of this, and explain?\n",
    ">>> def func(a, b, c): a = 2; b[0] = 'x'; c['a'] = 'y'\n",
    ">>> l=1; m=[1]; n={'a':0}\n",
    ">>> func(l, m, n)\n",
    "\n",
    "ANSWER\n",
    "The result of the given code will not return any value because the func function does not have any return statement.\n",
    "However, it will modify the objects m and n that are passed as arguments to the function."
   ]
  },
  {
   "cell_type": "code",
   "execution_count": 7,
   "id": "810507a9",
   "metadata": {},
   "outputs": [],
   "source": [
    "def func(a, b, c): \n",
    "    a = 2; b[0] = 'x'; c['a'] = 'y'\n",
    "l=1; m=[1]; n={'a':0}\n",
    "func(l, m, n)"
   ]
  },
  {
   "cell_type": "code",
   "execution_count": null,
   "id": "e161f97a",
   "metadata": {},
   "outputs": [],
   "source": []
  }
 ],
 "metadata": {
  "kernelspec": {
   "display_name": "Python 3 (ipykernel)",
   "language": "python",
   "name": "python3"
  },
  "language_info": {
   "codemirror_mode": {
    "name": "ipython",
    "version": 3
   },
   "file_extension": ".py",
   "mimetype": "text/x-python",
   "name": "python",
   "nbconvert_exporter": "python",
   "pygments_lexer": "ipython3",
   "version": "3.9.13"
  }
 },
 "nbformat": 4,
 "nbformat_minor": 5
}
