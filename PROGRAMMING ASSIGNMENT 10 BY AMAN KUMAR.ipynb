{
 "cells": [
  {
   "cell_type": "code",
   "execution_count": null,
   "id": "07084776",
   "metadata": {},
   "outputs": [],
   "source": [
    "1.Write a Python program to find sum of elements in list?\n"
   ]
  },
  {
   "cell_type": "code",
   "execution_count": 2,
   "id": "342545fb",
   "metadata": {},
   "outputs": [],
   "source": [
    "def sum_of_list_elements(lst):\n",
    "    \"\"\"\n",
    "    Returns the sum of all elements in the given list.\n",
    "    \"\"\"\n",
    "    return sum(lst)\n",
    "\n",
    " \n"
   ]
  },
  {
   "cell_type": "code",
   "execution_count": 3,
   "id": "c5cc73c7",
   "metadata": {},
   "outputs": [
    {
     "name": "stdout",
     "output_type": "stream",
     "text": [
      "15\n"
     ]
    }
   ],
   "source": [
    "my_list = [1, 2, 3, 4, 5]\n",
    "print(sum_of_list_elements(my_list)) "
   ]
  },
  {
   "cell_type": "code",
   "execution_count": null,
   "id": "3d5975aa",
   "metadata": {},
   "outputs": [],
   "source": [
    "2.Write a Python program to  Multiply all numbers in the list?\n"
   ]
  },
  {
   "cell_type": "code",
   "execution_count": 4,
   "id": "ba3363e8",
   "metadata": {},
   "outputs": [],
   "source": [
    "def multiply_list_elements(lst):\n",
    "    \"\"\"\n",
    "    Returns the product of all elements in the given list.\n",
    "    \"\"\"\n",
    "    result = 1\n",
    "    for element in lst:\n",
    "        result *= element\n",
    "    return result\n",
    "\n"
   ]
  },
  {
   "cell_type": "code",
   "execution_count": 5,
   "id": "3ca7fce3",
   "metadata": {},
   "outputs": [
    {
     "name": "stdout",
     "output_type": "stream",
     "text": [
      "120\n"
     ]
    }
   ],
   "source": [
    "\n",
    "my_list = [1, 2, 3, 4, 5]\n",
    "print(multiply_list_elements(my_list)) \n"
   ]
  },
  {
   "cell_type": "code",
   "execution_count": null,
   "id": "324f1abe",
   "metadata": {},
   "outputs": [],
   "source": [
    "3.Write a Python program to find smallest number in a list?\n"
   ]
  },
  {
   "cell_type": "code",
   "execution_count": 6,
   "id": "d5b9e9a6",
   "metadata": {},
   "outputs": [
    {
     "name": "stdout",
     "output_type": "stream",
     "text": [
      "The smallest number in the list is: 2\n"
     ]
    }
   ],
   "source": [
    "numbers = [10, 5, 2, 15, 3, 7]\n",
    "\n",
    "smallest = numbers[0]  \n",
    "for num in numbers:\n",
    "    if num < smallest:  \n",
    "        smallest = num\n",
    "\n",
    "print(\"The smallest number in the list is:\", smallest)\n"
   ]
  },
  {
   "cell_type": "code",
   "execution_count": null,
   "id": "9dab7926",
   "metadata": {},
   "outputs": [],
   "source": [
    "4.Write a Python program to find largest number in a list?\n"
   ]
  },
  {
   "cell_type": "code",
   "execution_count": 7,
   "id": "3335c5ea",
   "metadata": {},
   "outputs": [
    {
     "name": "stdout",
     "output_type": "stream",
     "text": [
      "The largest number in the list is: 15\n"
     ]
    }
   ],
   "source": [
    "numbers = [10, 5, 2, 15, 3, 7]\n",
    "\n",
    "largest = numbers[0]   \n",
    "for num in numbers:\n",
    "    if num > largest: \n",
    "        largest = num\n",
    "\n",
    "print(\"The largest number in the list is:\", largest)\n"
   ]
  },
  {
   "cell_type": "code",
   "execution_count": null,
   "id": "7cac9cfc",
   "metadata": {},
   "outputs": [],
   "source": [
    "5.Write a Python program to find second largest number in a list?\n"
   ]
  },
  {
   "cell_type": "code",
   "execution_count": 8,
   "id": "ea8572db",
   "metadata": {},
   "outputs": [
    {
     "name": "stdout",
     "output_type": "stream",
     "text": [
      "The second largest number in the list is: 10\n"
     ]
    }
   ],
   "source": [
    "numbers = [10, 5, 2, 15, 3, 7]\n",
    "\n",
    "largest = second_largest = float('-inf')  \n",
    "for num in numbers:\n",
    "    if num > largest:   \n",
    "        second_largest = largest   \n",
    "        largest = num\n",
    "    elif num > second_largest and num != largest:   \n",
    "        second_largest = num\n",
    "\n",
    "print(\"The second largest number in the list is:\", second_largest)\n"
   ]
  },
  {
   "cell_type": "code",
   "execution_count": null,
   "id": "f699f968",
   "metadata": {},
   "outputs": [],
   "source": [
    "6.Write a Python program to find N largest elements from a list?\n"
   ]
  },
  {
   "cell_type": "code",
   "execution_count": 10,
   "id": "5628b3dd",
   "metadata": {},
   "outputs": [
    {
     "name": "stdout",
     "output_type": "stream",
     "text": [
      "The 3 largest numbers in the list are: [15, 10, 7]\n"
     ]
    }
   ],
   "source": [
    "numbers = [10, 5, 2, 15, 3, 7]\n",
    "N = 3   \n",
    "largest = []   \n",
    "for i in range(N):\n",
    "    max_num = max(numbers)   \n",
    "    largest.append(max_num)   \n",
    "    numbers.remove(max_num)   \n",
    "print(\"The\", N, \"largest numbers in the list are:\", largest)\n"
   ]
  },
  {
   "cell_type": "code",
   "execution_count": null,
   "id": "4ad1f46c",
   "metadata": {},
   "outputs": [],
   "source": [
    "7.Write a Python program to print even numbers in a list?\n"
   ]
  },
  {
   "cell_type": "code",
   "execution_count": 11,
   "id": "1f84f512",
   "metadata": {},
   "outputs": [
    {
     "name": "stdout",
     "output_type": "stream",
     "text": [
      "The even numbers in the list are: [10, 2]\n"
     ]
    }
   ],
   "source": [
    "numbers = [10, 5, 2, 15, 3, 7]\n",
    "\n",
    "even_numbers = []   \n",
    "for num in numbers:\n",
    "    if num % 2 == 0:   \n",
    "        even_numbers.append(num)\n",
    "\n",
    "print(\"The even numbers in the list are:\", even_numbers)\n"
   ]
  },
  {
   "cell_type": "code",
   "execution_count": null,
   "id": "236483f4",
   "metadata": {},
   "outputs": [],
   "source": [
    "8.Write a Python program to print odd numbers in a List?\n"
   ]
  },
  {
   "cell_type": "code",
   "execution_count": 12,
   "id": "a1c2a341",
   "metadata": {},
   "outputs": [
    {
     "name": "stdout",
     "output_type": "stream",
     "text": [
      "The odd numbers in the list are: [5, 15, 3, 7]\n"
     ]
    }
   ],
   "source": [
    "numbers = [10, 5, 2, 15, 3, 7]\n",
    "\n",
    "odd_numbers = []   \n",
    "\n",
    "for num in numbers:\n",
    "    if num % 2 != 0:  \n",
    "        odd_numbers.append(num)\n",
    "\n",
    "print(\"The odd numbers in the list are:\", odd_numbers)\n"
   ]
  },
  {
   "cell_type": "code",
   "execution_count": null,
   "id": "de9316a2",
   "metadata": {},
   "outputs": [],
   "source": [
    "9.Write a Python program to Remove empty List from List?\n"
   ]
  },
  {
   "cell_type": "code",
   "execution_count": 13,
   "id": "c7102d43",
   "metadata": {},
   "outputs": [
    {
     "name": "stdout",
     "output_type": "stream",
     "text": [
      "The new list with empty lists removed is: [1, 2, 3, 4, 5]\n"
     ]
    }
   ],
   "source": [
    "my_list = [1, 2, [], 3, [], [], 4, 5, []]\n",
    "\n",
    "new_list = list(filter(None, my_list))   \n",
    "\n",
    "print(\"The new list with empty lists removed is:\", new_list)\n"
   ]
  },
  {
   "cell_type": "code",
   "execution_count": null,
   "id": "86cf1a65",
   "metadata": {},
   "outputs": [],
   "source": [
    "10.Write a Python program to Cloning or Copying a list?\n"
   ]
  },
  {
   "cell_type": "code",
   "execution_count": 15,
   "id": "39eb5385",
   "metadata": {},
   "outputs": [
    {
     "name": "stdout",
     "output_type": "stream",
     "text": [
      "The original list is: [10, 5, 2, 15, 3, 7]\n",
      "The cloned list using method 1 is: [10, 5, 2, 15, 3, 7]\n",
      "The cloned list using method 2 is: [10, 5, 2, 15, 3, 7]\n"
     ]
    }
   ],
   "source": [
    "original_list = [10, 5, 2, 15, 3, 7]\n",
    "\n",
    "# Method 1: Using the copy() method\n",
    "new_list1 = original_list.copy()\n",
    "\n",
    "# Method 2: Using the list() constructor\n",
    "new_list2 = list(original_list)\n",
    "\n",
    "print(\"The original list is:\", original_list)\n",
    "print(\"The cloned list using method 1 is:\", new_list1)\n",
    "print(\"The cloned list using method 2 is:\", new_list2)\n"
   ]
  },
  {
   "cell_type": "code",
   "execution_count": null,
   "id": "a574a66f",
   "metadata": {},
   "outputs": [],
   "source": [
    "11.Write a Python program to Count occurrences of an element in a list?\n"
   ]
  },
  {
   "cell_type": "code",
   "execution_count": 16,
   "id": "da59c733",
   "metadata": {},
   "outputs": [],
   "source": [
    "def count_occurrences(lst, element):\n",
    "    count = 0\n",
    "    for item in lst:\n",
    "        if item == element:\n",
    "            count += 1\n",
    "    return count\n",
    "\n"
   ]
  },
  {
   "cell_type": "code",
   "execution_count": 17,
   "id": "2f9fd0b2",
   "metadata": {},
   "outputs": [
    {
     "name": "stdout",
     "output_type": "stream",
     "text": [
      "The element 1 appears 4 times in the list.\n"
     ]
    }
   ],
   "source": [
    "my_list = [1, 2, 3, 4, 1, 2, 1, 5, 1]\n",
    "element_to_count = 1\n",
    "occurrences = count_occurrences(my_list, element_to_count)\n",
    "print(f\"The element {element_to_count} appears {occurrences} times in the list.\")\n"
   ]
  },
  {
   "cell_type": "code",
   "execution_count": null,
   "id": "9a062c26",
   "metadata": {},
   "outputs": [],
   "source": []
  }
 ],
 "metadata": {
  "kernelspec": {
   "display_name": "Python 3 (ipykernel)",
   "language": "python",
   "name": "python3"
  },
  "language_info": {
   "codemirror_mode": {
    "name": "ipython",
    "version": 3
   },
   "file_extension": ".py",
   "mimetype": "text/x-python",
   "name": "python",
   "nbconvert_exporter": "python",
   "pygments_lexer": "ipython3",
   "version": "3.9.13"
  }
 },
 "nbformat": 4,
 "nbformat_minor": 5
}
