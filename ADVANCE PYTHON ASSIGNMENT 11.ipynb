{
 "cells": [
  {
   "cell_type": "code",
   "execution_count": null,
   "id": "61098275",
   "metadata": {},
   "outputs": [],
   "source": [
    "Q1. What is the concept of a metaclass?\n",
    "\n",
    "ANSWER\n",
    "\n",
    "Metaclass in Python is a class of a class that defines how a class behaves. A class is itself a instance of Metaclass,\n",
    "and any Instance of Class in Python is an Instance of type metaclass. E.g. Type of of int, str, float, list, tuple and many \n",
    "more is of metaclass type.\n",
    "\n"
   ]
  },
  {
   "cell_type": "code",
   "execution_count": null,
   "id": "5c6e2c7f",
   "metadata": {},
   "outputs": [],
   "source": [
    "Q2. What is the best way to declare a class's metaclass?\n",
    "\n",
    "ANSWER\n",
    "\n",
    "A way to declare a class’ metaclass is by using metaclass keyword in class definition.\n",
    "\n"
   ]
  },
  {
   "cell_type": "code",
   "execution_count": 1,
   "id": "67105229",
   "metadata": {},
   "outputs": [
    {
     "name": "stdout",
     "output_type": "stream",
     "text": [
      "<class 'type'>\n",
      "<class '__main__.meta'>\n"
     ]
    }
   ],
   "source": [
    "class meta(type):\n",
    "    pass\n",
    "class class_meta(metaclass=meta):\n",
    "    pass\n",
    "print(type(meta))\n",
    "print(type(class_meta))\n"
   ]
  },
  {
   "cell_type": "code",
   "execution_count": null,
   "id": "444f4334",
   "metadata": {},
   "outputs": [],
   "source": [
    "Q3. How do class decorators overlap with metaclasses for handling classes ?\n",
    "\n",
    "ANSWER\n",
    "\n",
    "Anything you can do with a class decorator, you can of course do with a custom metaclasses \n",
    "(just apply the functionality of the \"decorator function\", i.e., the one that takes a class object \n",
    " and modifies it, in the course of the metaclass's __new__ or __init__ that make the class object!).\n",
    "\n"
   ]
  },
  {
   "cell_type": "code",
   "execution_count": null,
   "id": "6588697a",
   "metadata": {},
   "outputs": [],
   "source": [
    "Q4. How do class decorators overlap with metaclasses for handling instances?\n",
    "\n",
    "ANSWER\n",
    "\n",
    "Anything you can do with a class decorator, you can of course do with a custom metaclass \n",
    "(just apply the functionality of the \"decorator function\", i.e., the one that takes a class object and \n",
    " modifies it, in the course of the metaclass's __new__ or __init__ that make the class object!)."
   ]
  },
  {
   "cell_type": "code",
   "execution_count": null,
   "id": "ceadd1ce",
   "metadata": {},
   "outputs": [],
   "source": []
  }
 ],
 "metadata": {
  "kernelspec": {
   "display_name": "Python 3 (ipykernel)",
   "language": "python",
   "name": "python3"
  },
  "language_info": {
   "codemirror_mode": {
    "name": "ipython",
    "version": 3
   },
   "file_extension": ".py",
   "mimetype": "text/x-python",
   "name": "python",
   "nbconvert_exporter": "python",
   "pygments_lexer": "ipython3",
   "version": "3.9.13"
  }
 },
 "nbformat": 4,
 "nbformat_minor": 5
}
