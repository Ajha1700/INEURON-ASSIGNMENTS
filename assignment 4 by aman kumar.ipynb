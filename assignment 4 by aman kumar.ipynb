{
 "cells": [
  {
   "cell_type": "code",
   "execution_count": null,
   "id": "a9b7052e",
   "metadata": {},
   "outputs": [],
   "source": [
    "1. What exactly is []?\n",
    "ANSWER\n",
    "\n",
    "[] is an empty list, which is a collection of values that can be of any data type. Lists are one of the built-in data structures\n",
    "in Python, and they are used to store a sequence of elements.\n",
    "\n",
    "An empty list is simply a list with no elements. You can create an empty list in Python by typing my_list = [].\n",
    "You can also use the list() function to create an empty list, like this: my_list = list().\n",
    "\n",
    "Once you have an empty list, you can add elements to it using the append() method or by using indexing to assign values \n",
    "to specific positions in the list. You can also use a list comprehension or other iteration techniques to generate a list\n",
    "with values in it."
   ]
  },
  {
   "cell_type": "code",
   "execution_count": 1,
   "id": "fbeeca40",
   "metadata": {},
   "outputs": [
    {
     "name": "stdout",
     "output_type": "stream",
     "text": [
      "[2, 4, 'hello', 8, 10]\n"
     ]
    }
   ],
   "source": [
    "#2. In a list of values stored in a variable called spam, how would you assign the value 'hello' as the third value?\n",
    "#(Assume [2, 4, 6, 8, 10] are in spam.)\n",
    "ANSWER\n",
    "\n",
    "spam = [2, 4, 6, 8, 10]\n",
    "spam[2] = 'hello'\n",
    "print(spam)\n",
    "\n"
   ]
  },
  {
   "cell_type": "code",
   "execution_count": null,
   "id": "2df001c8",
   "metadata": {},
   "outputs": [],
   "source": [
    "To assign the value 'hello' as the third value in a list stored in a variable called spam, you can use indexing to access \n",
    "the third element (which has an index of 2, since Python indexes lists starting from 0), and assign the value 'hello' to it."
   ]
  },
  {
   "cell_type": "code",
   "execution_count": 2,
   "id": "ae8682d7",
   "metadata": {},
   "outputs": [
    {
     "data": {
      "text/plain": [
       "'d'"
      ]
     },
     "execution_count": 2,
     "metadata": {},
     "output_type": "execute_result"
    }
   ],
   "source": [
    "#Let's pretend the spam includes the list ['a', 'b', 'c', 'd'] for the next three queries.\n",
    "#3. What is the value of spam[int(int('3' * 2) / 11)]?\n",
    "ANSWER\n",
    "\n",
    "spam = ['a', 'b', 'c', 'd']\n",
    "spam[int(int('3' * 2) / 11)]"
   ]
  },
  {
   "cell_type": "code",
   "execution_count": 3,
   "id": "45b0ee86",
   "metadata": {},
   "outputs": [
    {
     "data": {
      "text/plain": [
       "'d'"
      ]
     },
     "execution_count": 3,
     "metadata": {},
     "output_type": "execute_result"
    }
   ],
   "source": [
    "#4. What is the value of spam[-1]?\n",
    "spam[-1]"
   ]
  },
  {
   "cell_type": "code",
   "execution_count": 4,
   "id": "54a61131",
   "metadata": {},
   "outputs": [
    {
     "data": {
      "text/plain": [
       "['a', 'b']"
      ]
     },
     "execution_count": 4,
     "metadata": {},
     "output_type": "execute_result"
    }
   ],
   "source": [
    "#5. What is the value of spam[:2]?\n",
    "spam[:2]"
   ]
  },
  {
   "cell_type": "code",
   "execution_count": null,
   "id": "7912b9b4",
   "metadata": {},
   "outputs": [],
   "source": [
    "Let's pretend bacon has the list [3.14, 'cat,' 11, 'cat,' True] for the next three questions.\n"
   ]
  },
  {
   "cell_type": "code",
   "execution_count": null,
   "id": "9301302f",
   "metadata": {},
   "outputs": [],
   "source": [
    "6. What is the value of bacon.index('cat')?\n"
   ]
  },
  {
   "cell_type": "code",
   "execution_count": 5,
   "id": "1621cf81",
   "metadata": {},
   "outputs": [
    {
     "data": {
      "text/plain": [
       "1"
      ]
     },
     "execution_count": 5,
     "metadata": {},
     "output_type": "execute_result"
    }
   ],
   "source": [
    "bacon = [3.14, 'cat', 11, 'cat', True]\n",
    "bacon.index('cat')\n"
   ]
  },
  {
   "cell_type": "code",
   "execution_count": 6,
   "id": "5fc22df4",
   "metadata": {},
   "outputs": [
    {
     "data": {
      "text/plain": [
       "[3.14, 'cat', 11, 'cat', True, 99]"
      ]
     },
     "execution_count": 6,
     "metadata": {},
     "output_type": "execute_result"
    }
   ],
   "source": [
    "#7. How does bacon.append(99) change the look of the list value in bacon?\n",
    "bacon.append(99)\n",
    "bacon"
   ]
  },
  {
   "cell_type": "code",
   "execution_count": 7,
   "id": "e92fc8fa",
   "metadata": {},
   "outputs": [],
   "source": [
    "#8. How does bacon.remove('cat') change the look of the list in bacon?\n",
    "bacon.remove('cat') "
   ]
  },
  {
   "cell_type": "code",
   "execution_count": 8,
   "id": "d4b85af6",
   "metadata": {},
   "outputs": [
    {
     "data": {
      "text/plain": [
       "[3.14, 11, 'cat', True, 99]"
      ]
     },
     "execution_count": 8,
     "metadata": {},
     "output_type": "execute_result"
    }
   ],
   "source": [
    "bacon"
   ]
  },
  {
   "cell_type": "code",
   "execution_count": null,
   "id": "f23fed7e",
   "metadata": {},
   "outputs": [],
   "source": [
    "9. What are the list concatenation and list replication operators?\n",
    "ANSWER\n",
    "\n",
    "The list concatenation operator is +, and it is used to combine two or more lists into a new list. When we \n",
    "use the + operator on two lists, the result is a new list that contains all the elements from the first list followed by \n",
    "all the elements from the second list.\n",
    "\n",
    "example:\n",
    "\n",
    "list1 = [1, 2, 3]\n",
    "list2 = [4, 5, 6]\n",
    "concatenated_list = list1 + list2\n",
    "print(concatenated_list)\n",
    "Output:\n",
    "\n",
    "\n",
    "[1, 2, 3, 4, 5, 6]\n",
    "\n",
    "\n",
    "The list replication operator in Python is *, and it is used to create a new list by repeating an existing list a \n",
    "certain number of times. When you use the * operator on a list and an integer, the result is a new list that contains\n",
    "multiple copies of the original list.\n",
    "\n",
    "example:\n",
    "\n",
    "original_list = [1, 2, 3]\n",
    "replicated_list = original_list * 3\n",
    "print(replicated_list)\n",
    "Output:\n",
    "\n",
    "[1, 2, 3, 1, 2, 3, 1, 2, 3]\n",
    "\n",
    "\n",
    "\n"
   ]
  },
  {
   "cell_type": "code",
   "execution_count": null,
   "id": "97e2020e",
   "metadata": {},
   "outputs": [],
   "source": [
    "10. What is difference between the list methods append() and insert()?\n",
    "ANSWER\n",
    "\n",
    "The main difference between the append() and insert() methods for lists is where they add new elements to the list.\n",
    "\n",
    "The append() method adds an element to the end of a list, while the insert() method adds an element at a specific position \n",
    "in the list.\n",
    "\n",
    "Here are some examples to illustrate the difference:\n",
    "\n",
    "\n",
    "# Example using append()\n",
    "my_list = [1, 2, 3]\n",
    "my_list.append(4)\n",
    "print(my_list)\n",
    "# Output: [1, 2, 3, 4]\n",
    "\n",
    "# Example using insert()\n",
    "my_list = [1, 2, 3]\n",
    "my_list.insert(1, 4)\n",
    "print(my_list)\n",
    "# Output: [1, 4, 2, 3]"
   ]
  },
  {
   "cell_type": "code",
   "execution_count": null,
   "id": "91a43d4b",
   "metadata": {},
   "outputs": [],
   "source": [
    "11. What are the two methods for removing items from a list?\n",
    "ANSWER\n",
    "\n",
    "The remove() method is used to remove the first occurrence of a value from the list.\n",
    "It takes a single argument, which is the value to be removed, and removes the first occurrence of that value\n",
    "from the list. If the value is not found in the list, it raises a ValueError."
   ]
  },
  {
   "cell_type": "code",
   "execution_count": null,
   "id": "d78f0307",
   "metadata": {},
   "outputs": [],
   "source": [
    "12. Describe how list values and string values are identical.\n",
    "ANSWER\n",
    "\n",
    "Lists and strings are both sequences of values in Python, and they share many similarities.\n",
    "\n",
    "Here are some ways that lists and strings are identical:\n",
    "\n",
    "Both lists and strings can be indexed and sliced: You can access individual elements of a list or \n",
    "    string by their position (index) within the sequence, and you can select a range of elements using a slice.\n",
    "\n",
    "Both lists and strings are ordered: The order of the elements in a list or string is important, and\n",
    "    determines their position within the sequence.\n",
    "\n",
    "Both lists and strings can be iterated over: You can use a loop to iterate over the elements in a list or string, \n",
    "    one at a time.\n",
    "\n",
    "Both lists and strings can be concatenated: You can combine two or more lists or strings into a new list or\n",
    "    string using the + operator.\n",
    "\n",
    "Both lists and strings can be repeated: You can create a new list or string that contains multiple copies of\n",
    "    an existing list or string using the * operator.\n",
    "\n",
    "Both lists and strings can be compared: You can compare two lists or two strings using the comparison operators \n",
    "    ==, !=, <, >, <=, and >=."
   ]
  },
  {
   "cell_type": "code",
   "execution_count": null,
   "id": "0241f66d",
   "metadata": {},
   "outputs": [],
   "source": [
    "13. What's the difference between tuples and lists?\n",
    " ANSWER\n",
    "    \n",
    "Both tuples and lists are used to store collections of items, but there are some key differences between the two:\n",
    "\n",
    "Mutability: Lists are mutable, which means you can add, remove, or modify elements after the list has been created. \n",
    "Tuples, on the other hand, are immutable, which means that once a tuple is created, its elements cannot be changed.\n",
    "\n",
    "Syntax: Lists are created using square brackets [], while tuples are created using parentheses ().\n",
    "\n",
    "Size: Lists can grow or shrink in size as needed, while tuples have a fixed size that cannot be changed once they are created.\n",
    "\n",
    "Performance: Tuples are generally faster than lists when it comes to indexing and accessing elements, because\n",
    "the interpreter can make certain optimizations due to the immutable nature of tuples.\n",
    "\n",
    "Usage: Lists are often used when you need to store a collection of items that you will modify during the course of\n",
    "your program, while tuples are often used when you need to store a collection of items that will not change, or that \n",
    "3you do not want to accidentally modify."
   ]
  },
  {
   "cell_type": "code",
   "execution_count": null,
   "id": "027b1540",
   "metadata": {},
   "outputs": [],
   "source": [
    "14. How do you type a tuple value that only contains the integer 42?\n",
    "ANSWER\n",
    "\n",
    "(42)"
   ]
  },
  {
   "cell_type": "code",
   "execution_count": null,
   "id": "2eb47894",
   "metadata": {},
   "outputs": [],
   "source": [
    "15. How do you get a list value's tuple form? How do you get a tuple value's list form?\n",
    "ANSWER\n",
    "\n",
    "we can convert a list to a tuple using the tuple() function, and you can convert a tuple to a list using the list() function.\n",
    "\n",
    "Here's an example of converting a list to a tuple:\n",
    "\n",
    "\n",
    "my_list = [1, 2, 3, 4, 5]\n",
    "my_tuple = tuple(my_list)\n",
    "print(my_tuple)\n",
    "Output:\n",
    "(1, 2, 3, 4, 5)\n",
    "\n",
    "example of converting a tuple to a list:\n",
    "\n",
    "my_tuple = (1, 2, 3, 4, 5)\n",
    "my_list = list(my_tuple)\n",
    "print(my_list)\n",
    "Output:\n",
    "[1, 2, 3, 4, 5]\n",
    "In both cases, the resulting data type will have the same elements as the original one, but in a different form.\n",
    "\n"
   ]
  },
  {
   "cell_type": "code",
   "execution_count": null,
   "id": "65db25fa",
   "metadata": {},
   "outputs": [],
   "source": [
    "16. Variables that \"contain\" list values are not necessarily lists themselves. Instead, what do they contain?\n",
    "ANSWER\n",
    "\n",
    "variables that \"contain\" list values are not necessarily lists themselves, but rather they contain a reference to a list object\n",
    "In other words, when you create a list in Python and assign it to a variable, \n",
    "the variable doesn't actually store the list directly. Instead, the variable holds a reference to the location in \n",
    "memory where the list is stored."
   ]
  },
  {
   "cell_type": "code",
   "execution_count": null,
   "id": "855c48c5",
   "metadata": {},
   "outputs": [],
   "source": [
    "17. How do you distinguish between copy.copy() and copy.deepcopy()?\n",
    "ANSWER\n",
    "\n",
    "The copy.copy() function will do a shallow copy of a list, while the copy.deepcopy() function will do a deep copy of a list.\n",
    "That is, only copy.deepcopy() will duplicate any lists inside the list."
   ]
  },
  {
   "cell_type": "code",
   "execution_count": null,
   "id": "32836a33",
   "metadata": {},
   "outputs": [],
   "source": []
  }
 ],
 "metadata": {
  "kernelspec": {
   "display_name": "Python 3 (ipykernel)",
   "language": "python",
   "name": "python3"
  },
  "language_info": {
   "codemirror_mode": {
    "name": "ipython",
    "version": 3
   },
   "file_extension": ".py",
   "mimetype": "text/x-python",
   "name": "python",
   "nbconvert_exporter": "python",
   "pygments_lexer": "ipython3",
   "version": "3.9.13"
  }
 },
 "nbformat": 4,
 "nbformat_minor": 5
}
