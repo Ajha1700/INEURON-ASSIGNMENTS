{
 "cells": [
  {
   "cell_type": "code",
   "execution_count": null,
   "id": "67a5935d",
   "metadata": {},
   "outputs": [],
   "source": [
    "1. What is the concept of an abstract superclass?\n",
    "\n",
    "ANSWER\n",
    "\n",
    "An abstract superclass is a class in object-oriented programming that is designed to be inherited from by other classes.\n",
    "It is declared as abstract, which means that it cannot be instantiated on its own, and it contains one or more abstract\n",
    "methods that must be implemented by its concrete subclasses.\n",
    "\n",
    "The purpose of an abstract superclass is to provide a common set of properties and methods that can be shared among \n",
    "its subclasses. This allows for the creation of more specialized classes that can inherit and extend the functionality\n",
    "of the superclass while also adding their own unique features.\n",
    "\n",
    "Abstract superclasses are often used to define interfaces for classes that have common characteristics but different\n",
    "implementations. By defining a set of abstract methods that must be implemented by subclasses, an abstract superclass\n",
    "can ensure that these classes conform to a specific interface or behavior.\n",
    "\n",
    "An abstract superclass is an abstract class that provides a foundation for its concrete subclasses by\n",
    "defining a set of methods and properties that they can inherit and extend.\n"
   ]
  },
  {
   "cell_type": "code",
   "execution_count": 1,
   "id": "912ff0af",
   "metadata": {},
   "outputs": [],
   "source": [
    "from abc import ABC, abstractmethod\n",
    "class Polygon(ABC): # Abstract Class\n",
    "    @abstractmethod\n",
    "    def noofsides(self): # Abstract Method\n",
    "        pass\n",
    "class Triangle(Polygon):\n",
    "    def noofsides(self):  # overriding abstract method in child class Triangle\n",
    "        print(\"I have 3 sides\")\n",
    "class Pentagon(Polygon):\n",
    "    def noofsides(self): # overriding abstract method in child class Pentagon\n",
    "        print(\"I have 5 sides\")"
   ]
  },
  {
   "cell_type": "code",
   "execution_count": null,
   "id": "c5e4dc77",
   "metadata": {},
   "outputs": [],
   "source": [
    "2. What happens when a class statement's top level contains a basic assignment statement?\n",
    "\n",
    "ANSWER\n",
    "\n",
    "When a class statement's top level contains a basic assignment statement, the assignment statement is executed and a \n",
    "class-level variable is created with the assigned value. This variable will be accessible from within the class and from \n",
    "instances of the class.\n",
    "\n",
    "Here's an example:\n"
   ]
  },
  {
   "cell_type": "code",
   "execution_count": 2,
   "id": "9427bae3",
   "metadata": {},
   "outputs": [],
   "source": [
    "\n",
    "class MyClass:\n",
    "    class_variable = 123\n",
    "    \n",
    "    def __init__(self):\n",
    "        self.instance_variable = 'abc'\n"
   ]
  },
  {
   "cell_type": "code",
   "execution_count": null,
   "id": "8fa66ebc",
   "metadata": {},
   "outputs": [],
   "source": [
    "This variable can be accessed from within the class and from instances of the class using the dot notation MyClass.\n",
    "class_variable.\n",
    "\n",
    "On the other hand, the instance_variable is an instance-level variable that is created and initialized with the value of\n",
    "'abc' in the constructor (__init__) method. This variable can only be accessed from instances of the class, not from the\n",
    "class itself.\n",
    "\n",
    "It is worth noting that class-level variables are shared among all instances of the class. If a class-level variable\n",
    "is modified by one instance of the class, the change will be reflected in all other instances that access the variable. \n",
    "Therefore, it is important to use class-level variables carefully and only when they are truly needed.\n",
    "\n"
   ]
  },
  {
   "cell_type": "code",
   "execution_count": null,
   "id": "4805c0a5",
   "metadata": {},
   "outputs": [],
   "source": [
    "3. Why does a class need to manually call a superclass's __init__ method?\n",
    "\n",
    "ANSWER\n",
    "A class needs to manually call a superclass's __init__ method to properly initialize the superclass's state and behavior.\n",
    "When a class is defined as a subclass of another class, it inherits all the attributes and methods of the superclass.\n",
    "However, the subclass may also have its own attributes and methods, which may require additional initialization.\n",
    "\n",
    "When the subclass is instantiated, it must first initialize the state of the superclass by calling its __init__ method.\n",
    "This ensures that the superclass's attributes and methods are properly initialized before any additional initialization \n",
    "is performed by the subclass.\n",
    "\n",
    "Here's an example:\n",
    "\n"
   ]
  },
  {
   "cell_type": "code",
   "execution_count": 3,
   "id": "16c17041",
   "metadata": {},
   "outputs": [
    {
     "name": "stdout",
     "output_type": "stream",
     "text": [
      "Buddy\n",
      "Labrador\n",
      "The animal is eating.\n",
      "Woof!\n"
     ]
    }
   ],
   "source": [
    "class Animal:\n",
    "    def __init__(self, name):\n",
    "        self.name = name\n",
    "        self.age = 0\n",
    "        \n",
    "    def eat(self):\n",
    "        print(\"The animal is eating.\")\n",
    "\n",
    "class Dog(Animal):\n",
    "    def __init__(self, name, breed):\n",
    "        Animal.__init__(self, name)\n",
    "        self.breed = breed\n",
    "        \n",
    "    def bark(self):\n",
    "        print(\"Woof!\")\n",
    "\n",
    "dog = Dog(\"Buddy\", \"Labrador\")\n",
    "print(dog.name) \n",
    "print(dog.breed)  \n",
    "dog.eat()  \n",
    "dog.bark() \n"
   ]
  },
  {
   "cell_type": "code",
   "execution_count": null,
   "id": "216bc659",
   "metadata": {},
   "outputs": [],
   "source": [
    "By calling the __init__ method of the superclass explicitly, the subclass ensures that the superclass's \n",
    "initialization logic is properly executed. This is necessary for creating correct and well-behaved objects, \n",
    "and is an important aspect of proper object-oriented programming.\n",
    "\n"
   ]
  },
  {
   "cell_type": "code",
   "execution_count": null,
   "id": "1e17736d",
   "metadata": {},
   "outputs": [],
   "source": [
    "4. How can you augment, instead of completely replacing, an inherited method?\n",
    "\n",
    "ANSWER\n",
    "In object-oriented programming, it is often desirable to add or modify the behavior of an inherited method in a\n",
    "subclass without completely replacing it. This can be achieved by using method overriding and calling the superclass's\n",
    "method within the subclass's method.\n",
    "\n",
    "Here's an example:\n"
   ]
  },
  {
   "cell_type": "code",
   "execution_count": 4,
   "id": "e855eb61",
   "metadata": {
    "scrolled": true
   },
   "outputs": [
    {
     "name": "stdout",
     "output_type": "stream",
     "text": [
      "The animal is making a sound.\n",
      "Woof!\n"
     ]
    }
   ],
   "source": [
    "class Animal:\n",
    "    def make_sound(self):\n",
    "        print(\"The animal is making a sound.\")\n",
    "\n",
    "class Dog(Animal):\n",
    "    def make_sound(self):\n",
    "        super().make_sound()  # Call the superclass's make_sound method\n",
    "        print(\"Woof!\")\n",
    "\n",
    "dog = Dog()\n",
    "dog.make_sound() \n"
   ]
  },
  {
   "cell_type": "code",
   "execution_count": null,
   "id": "628a0e8f",
   "metadata": {},
   "outputs": [],
   "source": [
    "By calling the superclass's method within the subclass's method, the subclass can augment the behavior of the inherited \n",
    "method without completely replacing it. In this case, the Dog class adds the behavior of printing \"Woof!\" to the behavior\n",
    "of the Animal superclass's make_sound method.\n",
    "\n",
    "It is important to note that the super() function is used to access the superclass's method, rather than calling the\n",
    "method directly on the superclass. This ensures that the method resolution order is followed correctly and that any\n",
    "changes to the inheritance hierarchy are properly accounted for.\n"
   ]
  },
  {
   "cell_type": "code",
   "execution_count": null,
   "id": "11c6d434",
   "metadata": {},
   "outputs": [],
   "source": [
    "5. How is the local scope of a class different from that of a function?\n",
    "\n",
    "ANSWER\n",
    "The local scope of a class is different from that of a function in several ways:\n",
    "\n",
    "Class variables: A class can have class-level variables that are defined in the class scope and are accessible from all \n",
    "    methods of the class, including the constructor (__init__) method. These variables are shared among all instances of\n",
    "    the class.\n",
    "\n",
    "Instance variables: An instance of a class can have instance-level variables that are defined in the constructor (__init__) \n",
    "    method and are accessible only from that instance. Each instance has its own set of instance variables.\n",
    "\n",
    "Inheritance: A class can inherit attributes and methods from its superclass. This means that the class has access to variables\n",
    "    and methods defined in the superclass, and can override or augment them as needed.\n",
    "\n",
    "Name resolution: When a name is referenced within a class method, the Python interpreter searches for the name in the local\n",
    "    scope of the method, then in the class scope, and then in the global scope. This is known as the \"LEGB rule\" (local,\n",
    "enclosing, global, built-in).\n",
    "\n",
    "In contrast, the local scope of a function only includes the names defined within the function itself. \n",
    "Variables defined in the function are not accessible outside the function, and the function does not have access \n",
    "to class-level or global variables unless they are explicitly passed as arguments.\n",
    "\n",
    "Here's an example that illustrates the differences between the local scope of a class and a function:\n",
    "\n"
   ]
  },
  {
   "cell_type": "code",
   "execution_count": 5,
   "id": "aa1c0233",
   "metadata": {},
   "outputs": [
    {
     "name": "stdout",
     "output_type": "stream",
     "text": [
      "Class variable: 123\n",
      "Instance variable: xyz\n",
      "Local variable: abc\n"
     ]
    },
    {
     "ename": "NameError",
     "evalue": "name 'local_variable' is not defined",
     "output_type": "error",
     "traceback": [
      "\u001b[1;31m---------------------------------------------------------------------------\u001b[0m",
      "\u001b[1;31mNameError\u001b[0m                                 Traceback (most recent call last)",
      "\u001b[1;32m~\\AppData\\Local\\Temp\\ipykernel_4944\\2570215178.py\u001b[0m in \u001b[0;36m<module>\u001b[1;34m\u001b[0m\n\u001b[0;32m     18\u001b[0m \u001b[0mmy_function\u001b[0m\u001b[1;33m(\u001b[0m\u001b[1;33m)\u001b[0m  \u001b[1;31m# Output: Local variable: abc\u001b[0m\u001b[1;33m\u001b[0m\u001b[1;33m\u001b[0m\u001b[0m\n\u001b[0;32m     19\u001b[0m \u001b[1;33m\u001b[0m\u001b[0m\n\u001b[1;32m---> 20\u001b[1;33m \u001b[0mprint\u001b[0m\u001b[1;33m(\u001b[0m\u001b[0mlocal_variable\u001b[0m\u001b[1;33m)\u001b[0m  \u001b[1;31m# Raises a NameError, as local_variable is not defined in the global scope\u001b[0m\u001b[1;33m\u001b[0m\u001b[1;33m\u001b[0m\u001b[0m\n\u001b[0m",
      "\u001b[1;31mNameError\u001b[0m: name 'local_variable' is not defined"
     ]
    }
   ],
   "source": [
    "class MyClass:\n",
    "    class_variable = 123\n",
    "    \n",
    "    def __init__(self, instance_variable):\n",
    "        self.instance_variable = instance_variable\n",
    "        \n",
    "    def print_variables(self):\n",
    "        print(\"Class variable:\", MyClass.class_variable)\n",
    "        print(\"Instance variable:\", self.instance_variable)\n",
    "\n",
    "def my_function():\n",
    "    local_variable = 'abc'\n",
    "    print(\"Local variable:\", local_variable)\n",
    "\n",
    "obj = MyClass('xyz')\n",
    "obj.print_variables()  \n",
    "\n",
    "my_function()  \n",
    "\n",
    "print(local_variable)  # Raises a NameError, as local_variable is not defined in the global scope\n"
   ]
  },
  {
   "cell_type": "code",
   "execution_count": null,
   "id": "84a32bd3",
   "metadata": {},
   "outputs": [],
   "source": [
    "\n",
    "On the other hand, the my_function function only has access to its own local variable (local_variable). \n",
    "This variable is not accessible outside the function, and it is not accessible from within the MyClass class.\n",
    "\n",
    "Finally, when we try to print the value of local_variable outside of the my_function function, a NameError is raised because\n",
    "local_variable is not defined in the global scope.\n"
   ]
  }
 ],
 "metadata": {
  "kernelspec": {
   "display_name": "Python 3 (ipykernel)",
   "language": "python",
   "name": "python3"
  },
  "language_info": {
   "codemirror_mode": {
    "name": "ipython",
    "version": 3
   },
   "file_extension": ".py",
   "mimetype": "text/x-python",
   "name": "python",
   "nbconvert_exporter": "python",
   "pygments_lexer": "ipython3",
   "version": "3.9.13"
  }
 },
 "nbformat": 4,
 "nbformat_minor": 5
}
