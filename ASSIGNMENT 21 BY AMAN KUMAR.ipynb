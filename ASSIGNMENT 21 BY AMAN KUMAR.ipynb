{
 "cells": [
  {
   "cell_type": "code",
   "execution_count": null,
   "id": "894e1625",
   "metadata": {},
   "outputs": [],
   "source": [
    "1. Add the current date to the text file today.txt as a string.\n",
    "\n",
    "ANSWER"
   ]
  },
  {
   "cell_type": "code",
   "execution_count": 2,
   "id": "2ced0c06",
   "metadata": {},
   "outputs": [],
   "source": [
    "from datetime import date\n",
    "now = date.today()\n",
    "now_str = now.isoformat()\n",
    "with open('today.txt', 'wt') as output:\n",
    "    print(now_str, file=output)"
   ]
  },
  {
   "cell_type": "code",
   "execution_count": null,
   "id": "a07fdf1d",
   "metadata": {},
   "outputs": [],
   "source": [
    "2. Read the text file today.txt into the string today_string\n",
    "\n",
    "ANSWER"
   ]
  },
  {
   "cell_type": "code",
   "execution_count": 2,
   "id": "72f3a6f4",
   "metadata": {},
   "outputs": [
    {
     "data": {
      "text/plain": [
       "'2023-02-26\\n'"
      ]
     },
     "execution_count": 2,
     "metadata": {},
     "output_type": "execute_result"
    }
   ],
   "source": [
    "with open('today.txt', 'rt') as input:\n",
    "    today_string = input.read()\n",
    "    \n",
    "today_string"
   ]
  },
  {
   "cell_type": "code",
   "execution_count": null,
   "id": "7fc12917",
   "metadata": {},
   "outputs": [],
   "source": [
    "3. Parse the date from today_string.\n",
    "\n",
    "ANSWER"
   ]
  },
  {
   "cell_type": "code",
   "execution_count": 3,
   "id": "ed52390d",
   "metadata": {},
   "outputs": [
    {
     "data": {
      "text/plain": [
       "datetime.datetime(2023, 2, 26, 0, 0)"
      ]
     },
     "execution_count": 3,
     "metadata": {},
     "output_type": "execute_result"
    }
   ],
   "source": [
    "from datetime import datetime\n",
    "fmt = '%Y-%m-%d\\n'\n",
    "datetime.strptime(today_string, fmt)"
   ]
  },
  {
   "cell_type": "code",
   "execution_count": null,
   "id": "90e90e40",
   "metadata": {},
   "outputs": [],
   "source": [
    "4. List the files in your current directory\n",
    "\n",
    "ANSWER"
   ]
  },
  {
   "cell_type": "code",
   "execution_count": 4,
   "id": "4af66fef",
   "metadata": {},
   "outputs": [
    {
     "data": {
      "text/plain": [
       "[' class 2.ipynb',\n",
       " '.conda',\n",
       " '.condarc',\n",
       " '.continuum',\n",
       " '.ipynb_checkpoints',\n",
       " '.ipython',\n",
       " '.jupyter',\n",
       " '.vscode',\n",
       " 'aman.txt',\n",
       " 'anaconda3',\n",
       " 'AppData',\n",
       " 'Application Data',\n",
       " 'assignement 2 by aman kumar.ipynb',\n",
       " 'ASSIGNMENT  17 BY AMAN KUMAR.ipynb',\n",
       " 'Assignment 1 by aman kumar.ipynb',\n",
       " 'assignment 10 by aman kumar.ipynb',\n",
       " 'ASSIGNMENT 11 BY AMAN KUMAR.ipynb',\n",
       " 'ASSIGNMENT 12 BY AMAN KUMAR.ipynb',\n",
       " 'ASSIGNMENT 13 BY AMAN KUMAR.ipynb',\n",
       " 'ASSIGNMENT 14 BY AMAN KUMAR.ipynb',\n",
       " 'ASSIGNMENT 15 BY AMAN KUMAR.ipynb',\n",
       " 'ASSIGNMENT 16 BY AMAN KUMAR.ipynb',\n",
       " 'ASSIGNMENT 18 BY AMAN KUMAR.ipynb',\n",
       " 'ASSIGNMENT 19 BY AMAN KUMAR.ipynb',\n",
       " 'ASSIGNMENT 20 BY AMAN KUMAR.ipynb',\n",
       " 'ASSIGNMENT 21 BY AMAN KUMAR.ipynb',\n",
       " 'assignment 3 by aman kumar.ipynb',\n",
       " 'assignment 4 by aman kumar.ipynb',\n",
       " 'assignment 5 by aman kumar.ipynb',\n",
       " 'assignment 6 by aman kumar.ipynb',\n",
       " 'assignment 7 by aman kumar.ipynb',\n",
       " 'assignment 8 by aman kumar.ipynb',\n",
       " 'assignment 9 by aman kumar.ipynb',\n",
       " 'books.csv',\n",
       " 'books.db',\n",
       " 'class 11 function.ipynb',\n",
       " 'class 3.ipynb',\n",
       " 'class 4.ipynb',\n",
       " 'class 5.ipynb',\n",
       " 'CLASS 6 CONTROL FLOW STATEMENT.ipynb',\n",
       " 'class 9 and class 10 functions.ipynb',\n",
       " 'classes and object classes.ipynb',\n",
       " 'conditions.ipynb',\n",
       " 'Contacts',\n",
       " 'Cookies',\n",
       " 'Desktop',\n",
       " 'dictionary and sets.ipynb',\n",
       " 'Documents',\n",
       " 'doubt.ipynb',\n",
       " 'Downloads',\n",
       " 'Dropbox',\n",
       " 'exceptional handeling.ipynb',\n",
       " 'Favorites',\n",
       " 'file handling and iterator and generator.ipynb',\n",
       " 'file.ipynb',\n",
       " 'functions and re.ipynb',\n",
       " 'hiscore.txt',\n",
       " 'hiscore1.txt',\n",
       " 'IntelGraphicsProfiles',\n",
       " 'inuron.txt',\n",
       " 'Links',\n",
       " 'lists and tuples.ipynb',\n",
       " 'Local Settings',\n",
       " 'logging and debugging.ipynb',\n",
       " 'loops .ipynb',\n",
       " 'Music',\n",
       " 'My Documents',\n",
       " 'NetHood',\n",
       " 'newimg.jpg',\n",
       " 'NTUSER.DAT',\n",
       " 'ntuser.dat.LOG1',\n",
       " 'ntuser.dat.LOG2',\n",
       " 'NTUSER.DAT{a2332f18-cdbf-11ec-8680-002248483d79}.TM.blf',\n",
       " 'NTUSER.DAT{a2332f18-cdbf-11ec-8680-002248483d79}.TMContainer00000000000000000001.regtrans-ms',\n",
       " 'NTUSER.DAT{a2332f18-cdbf-11ec-8680-002248483d79}.TMContainer00000000000000000002.regtrans-ms',\n",
       " 'ntuser.ini',\n",
       " 'OneDrive',\n",
       " 'OPERATORS.ipynb',\n",
       " 'Pictures',\n",
       " 'poem.ipynb',\n",
       " 'practice.ipynb',\n",
       " 'PrintHood',\n",
       " 'project 1.ipynb',\n",
       " 'Recent',\n",
       " 'Saved Games',\n",
       " 'Searches',\n",
       " 'SendTo',\n",
       " 'Start Menu',\n",
       " 'strings.ipynb',\n",
       " 'Templates',\n",
       " 'test.txt',\n",
       " 'today.txt',\n",
       " 'Untitled Folder',\n",
       " 'Untitled.ipynb',\n",
       " 'Untitled1.ipynb',\n",
       " 'Untitled2.ipynb',\n",
       " 'Untitled3.ipynb',\n",
       " 'Untitled4.ipynb',\n",
       " 'Untitled5.ipynb',\n",
       " 'Videos',\n",
       " 'zoo.py',\n",
       " '__pycache__']"
      ]
     },
     "execution_count": 4,
     "metadata": {},
     "output_type": "execute_result"
    }
   ],
   "source": [
    "import os\n",
    "os.listdir('.')"
   ]
  },
  {
   "cell_type": "code",
   "execution_count": null,
   "id": "a3d845cf",
   "metadata": {},
   "outputs": [],
   "source": [
    "5. Create a list of all of the files in your parent directory (minimum five files should be available).\n",
    "\n",
    "ANSWER"
   ]
  },
  {
   "cell_type": "code",
   "execution_count": 7,
   "id": "13695736",
   "metadata": {},
   "outputs": [
    {
     "data": {
      "text/plain": [
       "['All Users', 'Amank', 'Default', 'Default User', 'desktop.ini', 'Public']"
      ]
     },
     "execution_count": 7,
     "metadata": {},
     "output_type": "execute_result"
    }
   ],
   "source": [
    "os.listdir('..')"
   ]
  },
  {
   "cell_type": "code",
   "execution_count": null,
   "id": "d59a89f1",
   "metadata": {},
   "outputs": [],
   "source": [
    "6. Use multiprocessing to create three separate processes. Make each one wait a random number of seconds between one\n",
    "and five, print the current time, and then exit.\n",
    "\n",
    "ANSWER"
   ]
  },
  {
   "cell_type": "code",
   "execution_count": 9,
   "id": "e6eb70af",
   "metadata": {},
   "outputs": [
    {
     "name": "stdout",
     "output_type": "stream",
     "text": [
      "wait 0.23971175783624088 seconds, time is 2023-02-27 13:26:13.833274\n",
      "wait 0.6823337750141283 seconds, time is 2023-02-27 13:26:14.258355\n",
      "wait 0.9120071938140769 seconds, time is 2023-02-27 13:26:14.494765\n"
     ]
    }
   ],
   "source": [
    "!python multi_process.py"
   ]
  },
  {
   "cell_type": "code",
   "execution_count": null,
   "id": "c4c4ddb8",
   "metadata": {},
   "outputs": [],
   "source": [
    "7. Create a date object of your day of birth.\n",
    "\n",
    "ANSWER"
   ]
  },
  {
   "cell_type": "code",
   "execution_count": 3,
   "id": "ced19371",
   "metadata": {},
   "outputs": [
    {
     "data": {
      "text/plain": [
       "datetime.date(1999, 2, 11)"
      ]
     },
     "execution_count": 3,
     "metadata": {},
     "output_type": "execute_result"
    }
   ],
   "source": [
    "my_day = date(1999, 2, 11)\n",
    "my_day"
   ]
  },
  {
   "cell_type": "code",
   "execution_count": null,
   "id": "c63f3f36",
   "metadata": {},
   "outputs": [],
   "source": [
    "8. What day of the week was your day of birth?\n",
    "\n",
    "ANSWER\n",
    "\n",
    "With weekday(), Monday is 0 and Sunday is 6. With isoweekday(), Monday is 1 and\n",
    "\n",
    "Sunday is 7. Therefore, this date is a Saturday.\n"
   ]
  },
  {
   "cell_type": "code",
   "execution_count": 4,
   "id": "59e4fe55",
   "metadata": {},
   "outputs": [
    {
     "data": {
      "text/plain": [
       "3"
      ]
     },
     "execution_count": 4,
     "metadata": {},
     "output_type": "execute_result"
    }
   ],
   "source": [
    "my_day.weekday()"
   ]
  },
  {
   "cell_type": "code",
   "execution_count": 5,
   "id": "4bec3f1e",
   "metadata": {},
   "outputs": [
    {
     "data": {
      "text/plain": [
       "4"
      ]
     },
     "execution_count": 5,
     "metadata": {},
     "output_type": "execute_result"
    }
   ],
   "source": [
    "my_day.isoweekday()"
   ]
  },
  {
   "cell_type": "code",
   "execution_count": null,
   "id": "0f2fb707",
   "metadata": {},
   "outputs": [],
   "source": [
    "9. When will you be (or when were you) 10,000 days old?\n",
    "\n",
    "ANSWER"
   ]
  },
  {
   "cell_type": "code",
   "execution_count": 6,
   "id": "682003ba",
   "metadata": {},
   "outputs": [
    {
     "data": {
      "text/plain": [
       "datetime.date(2026, 6, 29)"
      ]
     },
     "execution_count": 6,
     "metadata": {},
     "output_type": "execute_result"
    }
   ],
   "source": [
    "from datetime import timedelta\n",
    "ten_thousand = my_day + timedelta(days=10000)\n",
    "ten_thousand"
   ]
  },
  {
   "cell_type": "code",
   "execution_count": null,
   "id": "8b9ccca3",
   "metadata": {},
   "outputs": [],
   "source": []
  }
 ],
 "metadata": {
  "kernelspec": {
   "display_name": "Python 3 (ipykernel)",
   "language": "python",
   "name": "python3"
  },
  "language_info": {
   "codemirror_mode": {
    "name": "ipython",
    "version": 3
   },
   "file_extension": ".py",
   "mimetype": "text/x-python",
   "name": "python",
   "nbconvert_exporter": "python",
   "pygments_lexer": "ipython3",
   "version": "3.9.13"
  }
 },
 "nbformat": 4,
 "nbformat_minor": 5
}
