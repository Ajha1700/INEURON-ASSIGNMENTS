{
 "cells": [
  {
   "cell_type": "code",
   "execution_count": null,
   "id": "9036814a",
   "metadata": {},
   "outputs": [],
   "source": [
    "Question 1\n",
    "Create a function that takes a number as an argument and returns True or False depending on whether the number \n",
    "is symmetrical or not. A number is symmetrical when it is the same as its reverse.\n",
    "Examples\n",
    "is_symmetrical(7227) ➞ True\n",
    "\n",
    "is_symmetrical(12567) ➞ False\n",
    "\n",
    "is_symmetrical(44444444) ➞ True\n",
    "\n",
    "is_symmetrical(9939) ➞ False\n",
    "\n",
    "is_symmetrical(1112111) ➞ True\n",
    "\n"
   ]
  },
  {
   "cell_type": "code",
   "execution_count": 1,
   "id": "1f2a8339",
   "metadata": {},
   "outputs": [],
   "source": [
    "def is_symmetrical(num):\n",
    "    num_str = str(num)\n",
    "    return num_str == num_str[::-1]\n"
   ]
  },
  {
   "cell_type": "code",
   "execution_count": 2,
   "id": "aeef7cf2",
   "metadata": {},
   "outputs": [
    {
     "name": "stdout",
     "output_type": "stream",
     "text": [
      "True\n",
      "False\n",
      "True\n",
      "False\n",
      "True\n"
     ]
    }
   ],
   "source": [
    "print(is_symmetrical(7227))\n",
    "\n",
    "print(is_symmetrical(12567))\n",
    "\n",
    "\n",
    "print(is_symmetrical(44444444))\n",
    "print(is_symmetrical(9939))\n",
    "print(is_symmetrical(1112111))\n"
   ]
  },
  {
   "cell_type": "code",
   "execution_count": null,
   "id": "0e688667",
   "metadata": {},
   "outputs": [],
   "source": [
    "Question 2\n",
    "Given a string of numbers separated by a comma and space, return the product of the numbers.\n",
    "Examples\n",
    "multiply_nums(\"2, 3\") ➞ 6\n",
    "\n",
    "multiply_nums(\"1, 2, 3, 4\") ➞ 24\n",
    "\n",
    "multiply_nums(\"54, 75, 453, 0\") ➞ 0\n",
    "\n",
    "multiply_nums(\"10, -2\") ➞ -20\n",
    "\n"
   ]
  },
  {
   "cell_type": "code",
   "execution_count": 3,
   "id": "2edaa1a8",
   "metadata": {},
   "outputs": [],
   "source": [
    "def multiply_nums(nums_str):\n",
    "    nums_list = [int(num) for num in nums_str.split(', ')]\n",
    "    product = 1\n",
    "    for num in nums_list:\n",
    "        product *= num\n",
    "    return product\n"
   ]
  },
  {
   "cell_type": "code",
   "execution_count": 4,
   "id": "ea048d69",
   "metadata": {},
   "outputs": [
    {
     "name": "stdout",
     "output_type": "stream",
     "text": [
      "6\n",
      "24\n",
      "0\n",
      "-20\n"
     ]
    }
   ],
   "source": [
    "print(multiply_nums(\"2, 3\"))\n",
    "\n",
    "print(multiply_nums(\"1, 2, 3, 4\"))\n",
    "\n",
    "\n",
    "print(multiply_nums(\"54, 75, 453, 0\"))\n",
    "\n",
    "print(multiply_nums(\"10, -2\"))\n",
    "\n"
   ]
  },
  {
   "cell_type": "code",
   "execution_count": null,
   "id": "5486929e",
   "metadata": {},
   "outputs": [],
   "source": [
    "Question 3\n",
    "Create a function that squares every digit of a number.\n",
    "Examples\n",
    "square_digits(9119) ➞ 811181\n",
    "\n",
    "square_digits(2483) ➞ 416649\n",
    "\n",
    "square_digits(3212) ➞ 9414\n",
    "Notes\n",
    "The function receives an integer and must return an integer.\n",
    "\n"
   ]
  },
  {
   "cell_type": "code",
   "execution_count": 5,
   "id": "caf2eead",
   "metadata": {},
   "outputs": [],
   "source": [
    "def square_digits(num):\n",
    "    num_str = str(num)\n",
    "    result_str = ''\n",
    "    for digit_str in num_str:\n",
    "        digit = int(digit_str)\n",
    "        result_str += str(digit ** 2)\n",
    "    return int(result_str)\n"
   ]
  },
  {
   "cell_type": "code",
   "execution_count": 6,
   "id": "e6ad120c",
   "metadata": {},
   "outputs": [
    {
     "name": "stdout",
     "output_type": "stream",
     "text": [
      "811181\n",
      "416649\n",
      "9414\n"
     ]
    }
   ],
   "source": [
    "print(square_digits(9119))\n",
    "print(square_digits(2483))\n",
    "print(square_digits(3212))\n"
   ]
  },
  {
   "cell_type": "code",
   "execution_count": null,
   "id": "851cb5d8",
   "metadata": {},
   "outputs": [],
   "source": [
    "Question 4\n",
    "Create a function that sorts a list and removes all duplicate items from it.\n",
    "Examples\n",
    "setify([1, 3, 3, 5, 5]) ➞ [1, 3, 5]\n",
    "\n",
    "setify([4, 4, 4, 4]) ➞ [4]\n",
    "\n",
    "setify([5, 7, 8, 9, 10, 15]) ➞ [5, 7, 8, 9, 10, 15]\n",
    "\n",
    "setify([3, 3, 3, 2, 1]) ➞ [1, 2, 3]\n",
    "\n"
   ]
  },
  {
   "cell_type": "code",
   "execution_count": 7,
   "id": "87585342",
   "metadata": {},
   "outputs": [],
   "source": [
    "def setify(lst):\n",
    "    return list(sorted(set(lst)))\n"
   ]
  },
  {
   "cell_type": "code",
   "execution_count": 8,
   "id": "4a001410",
   "metadata": {},
   "outputs": [
    {
     "name": "stdout",
     "output_type": "stream",
     "text": [
      "[1, 3, 5]\n",
      "[4]\n",
      "[5, 7, 8, 9, 10, 15]\n",
      "[1, 2, 3]\n"
     ]
    }
   ],
   "source": [
    "print(setify([1, 3, 3, 5, 5]))\n",
    "print(setify([4, 4, 4, 4]))\n",
    "print(setify([5, 7, 8, 9, 10, 15]))\n",
    "print(setify([3, 3, 3, 2, 1]))\n",
    "\n"
   ]
  },
  {
   "cell_type": "code",
   "execution_count": null,
   "id": "74523dfe",
   "metadata": {},
   "outputs": [],
   "source": [
    "Question 5\n",
    "Create a function that returns the mean of all digits.\n",
    "Examples\n",
    "mean(42) ➞ 3\n",
    "\n",
    "mean(12345) ➞ 3\n",
    "\n",
    "mean(666) ➞ 6\n",
    "Notes\n",
    "•\tThe mean of all digits is the sum of digits / how many digits there are (e.g. mean of digits in 512 is \n",
    "                                                                             (5+1+2)/3(number of digits) = 8/3=2).\n",
    "•\tThe mean will always be an integer.\n",
    "\n"
   ]
  },
  {
   "cell_type": "code",
   "execution_count": 9,
   "id": "1477e8b3",
   "metadata": {},
   "outputs": [],
   "source": [
    "def mean(num):\n",
    "    num_str = str(num)\n",
    "    num_digits = len(num_str)\n",
    "    digit_sum = sum(int(digit_str) for digit_str in num_str)\n",
    "    return digit_sum // num_digits\n"
   ]
  },
  {
   "cell_type": "code",
   "execution_count": 10,
   "id": "b95d286e",
   "metadata": {},
   "outputs": [
    {
     "name": "stdout",
     "output_type": "stream",
     "text": [
      "3\n",
      "3\n",
      "6\n"
     ]
    }
   ],
   "source": [
    "print(mean(42))\n",
    "print(mean(12345))\n",
    "print(mean(666))\n"
   ]
  },
  {
   "cell_type": "code",
   "execution_count": null,
   "id": "45bb6941",
   "metadata": {},
   "outputs": [],
   "source": []
  }
 ],
 "metadata": {
  "kernelspec": {
   "display_name": "Python 3 (ipykernel)",
   "language": "python",
   "name": "python3"
  },
  "language_info": {
   "codemirror_mode": {
    "name": "ipython",
    "version": 3
   },
   "file_extension": ".py",
   "mimetype": "text/x-python",
   "name": "python",
   "nbconvert_exporter": "python",
   "pygments_lexer": "ipython3",
   "version": "3.9.13"
  }
 },
 "nbformat": 4,
 "nbformat_minor": 5
}
