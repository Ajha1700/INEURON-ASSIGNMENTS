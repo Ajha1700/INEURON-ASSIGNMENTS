{
 "cells": [
  {
   "cell_type": "code",
   "execution_count": null,
   "id": "903f59fe",
   "metadata": {},
   "outputs": [],
   "source": [
    "Q1. What is the purpose of Python's OOP?\n",
    "ANSWER:\n",
    "Object-oriented programming is a programming paradigm that provides a means of structuring programs so that properties\n",
    "and behaviors are bundled into individual objects\n",
    "In Python, object-oriented Programming (OOPs) uses objects and classes in programming.\n",
    "It aims to implement real-world entities like inheritance, polymorphisms, encapsulation, etc. in the programming.\n",
    "The main concept of OOPs is to bind the data and the functions that work on that together as a single unit so that no \n",
    "other part of the code can access this data.\n",
    "It comes up with the following advantages:\n",
    "It helps to divide our overall program into different small segments and thus making it solving easy with the use of objects\n",
    "Helps in easy maintenance and modification of existing program\n",
    "Multiple instances of an object can be made.\n"
   ]
  },
  {
   "cell_type": "code",
   "execution_count": null,
   "id": "a7eef230",
   "metadata": {},
   "outputs": [],
   "source": [
    "Q2. Where does an inheritance search look for an attribute?\n",
    "ANSWER:\n",
    "Python searches for an attribute in an upward tree of attributes. it first searches for the attribute in its instance \n",
    "and then looks in the class it is generated from, to all super classes listed in its class header\n",
    "\n"
   ]
  },
  {
   "cell_type": "code",
   "execution_count": null,
   "id": "382a48d5",
   "metadata": {},
   "outputs": [],
   "source": [
    "Q3. How do you distinguish between a class object and an instance object?\n",
    "ANSWER:\n",
    "The differences between a class object and an instance object are:\n",
    "Class is a template for creating objects whereas object is an instance of class\n",
    "Separate memory is allocated for each object whenever an object is created. but for a class this does not happens.\n",
    "A Class is created once. Many objects are created using a class.\n",
    "As Classes have no allocated memory. they can't be manipulated. but objects can be manipulated.\n"
   ]
  },
  {
   "cell_type": "code",
   "execution_count": null,
   "id": "de33304b",
   "metadata": {},
   "outputs": [],
   "source": [
    "Q4. What makes the first argument in a class’s method function special?\n",
    "ANSWER:\n",
    "Python Classes usually have three types of methods which are:\n",
    "Instance Methods (object level methods)\n",
    "Class Methods (class level methods)\n",
    "Static Methods (general utility methods)\n",
    "self is the first argument for instance methods. which refers to the object itself\n",
    "cls is the first argument for class methods which refers to the class itself\n",
    "\n"
   ]
  },
  {
   "cell_type": "code",
   "execution_count": null,
   "id": "73cf39dc",
   "metadata": {},
   "outputs": [],
   "source": [
    "Q5. What is the purpose of the init method?\n",
    "ANSWER:\n",
    "__init__ is a reserved method in python classes. It serves the role of a constructor in object-oriented terminology. \n",
    "This method is called when an object is created from a class and it allows the class to initialize the attributes of the class\n"
   ]
  },
  {
   "cell_type": "code",
   "execution_count": null,
   "id": "6773b00c",
   "metadata": {},
   "outputs": [],
   "source": [
    "Q6. What is the process for creating a class instance?\n",
    "ANSWER:\n",
    "To create a class instance, we need to call the class by its name and pass the arguments to the class, which its init\n",
    "method accepts.\n",
    "Example: my_name = my_class(\"Mano\",\"vishnu\") Here my_name is an instance of class my_class with attributes \"Mano\" and \"Vishnu\".\n"
   ]
  },
  {
   "cell_type": "code",
   "execution_count": null,
   "id": "4de917a8",
   "metadata": {},
   "outputs": [],
   "source": [
    "Q7. What is the process for creating a class?\n",
    "ANSWER:\n",
    "class keyword is used to create a class in python. The syntax to create a class in python is class <classname>:\n",
    "Example: class Car: ➞ this creates a class called Car\n"
   ]
  },
  {
   "cell_type": "code",
   "execution_count": null,
   "id": "78b44d23",
   "metadata": {},
   "outputs": [],
   "source": [
    "Q8. How would you define the superclasses of a class?\n",
    "ANSWER:\n",
    "Superclass/Parent class is given as an argument to the child class\n",
    "Example: class Employee (Person): Here child class Employee inherits attributes and methods from Superclass/Parent Person\n"
   ]
  }
 ],
 "metadata": {
  "kernelspec": {
   "display_name": "Python 3 (ipykernel)",
   "language": "python",
   "name": "python3"
  },
  "language_info": {
   "codemirror_mode": {
    "name": "ipython",
    "version": 3
   },
   "file_extension": ".py",
   "mimetype": "text/x-python",
   "name": "python",
   "nbconvert_exporter": "python",
   "pygments_lexer": "ipython3",
   "version": "3.9.13"
  }
 },
 "nbformat": 4,
 "nbformat_minor": 5
}
