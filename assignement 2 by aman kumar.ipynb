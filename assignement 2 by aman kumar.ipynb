{
 "cells": [
  {
   "cell_type": "code",
   "execution_count": null,
   "id": "312efe37",
   "metadata": {},
   "outputs": [],
   "source": [
    "1.What are the two values of the Boolean data type? How do you write them?\n",
    "ANSWER\n",
    "\n",
    "In Python, the two values of the Boolean data type are \"True\" and \"False\".\n",
    "They are written with an uppercase \"T\" and \"F\", respectively.\n",
    "Its important to note that the keywords \"True\" and \"False\" are case-sensitive in Python,\n",
    "meaning \"true\" or \"false\" will not be recognized as Boolean values.\n"
   ]
  },
  {
   "cell_type": "code",
   "execution_count": null,
   "id": "00a48f51",
   "metadata": {},
   "outputs": [],
   "source": [
    "2. What are the three different types of Boolean operators?\n",
    "ANSWER\n",
    "\n",
    "The three different types of Boolean operators in Python are:\n",
    "\n",
    "\"and\" operator - returns True if both operands are True, otherwise returns False.\n",
    "\"or\" operator - returns True if either operand is True, otherwise returns False.\n",
    "\"not\" operator - returns True if the operand is False, and returns False if the operand is True.\n",
    "These operators can be used to combine Boolean values or expressions to produce a new Boolean value."
   ]
  },
  {
   "cell_type": "code",
   "execution_count": null,
   "id": "17970432",
   "metadata": {},
   "outputs": [],
   "source": [
    "3. Make a list of each Boolean operator's truth tables \n",
    "(i.e. every possible combination of Boolean values for the operator and what it evaluate ).\n",
    "ANSWER\n",
    "\n",
    "The truth tables for the three Boolean operators in Python:\n",
    "\n",
    "\"and\" operator:\n",
    "Operand 1\tOperand 2\tResult\n",
    "True\tTrue\tTrue\n",
    "True\tFalse\tFalse\n",
    "False\tTrue\tFalse\n",
    "False\tFalse\tFalse\n",
    "\"or\" operator:\n",
    "Operand 1\tOperand 2\tResult\n",
    "True\tTrue\tTrue\n",
    "True\tFalse\tTrue\n",
    "False\tTrue\tTrue\n",
    "False\tFalse\tFalse\n",
    "\"not\" operator:\n",
    "Operand\tResult\n",
    "True\tFalse\n",
    "False\tTrue\n",
    "These truth tables show all possible combinations of the Boolean values for each operator \n",
    "and the resulting Boolean value that is produced by the operator."
   ]
  },
  {
   "cell_type": "code",
   "execution_count": 1,
   "id": "0148dc44",
   "metadata": {},
   "outputs": [
    {
     "name": "stdout",
     "output_type": "stream",
     "text": [
      "False\n",
      "False\n",
      "True\n",
      "False\n",
      "False\n",
      "True\n"
     ]
    }
   ],
   "source": [
    "#4. What are the values of the following expressions?\n",
    "ANSWER\n",
    "print ((5 > 4) and (3 == 5))# False\n",
    "print(not (5 > 4))#False\n",
    "print((5 > 4) or (3 == 5))#True\n",
    "print(not ((5 > 4) or (3 == 5)))# False\n",
    "print((True and True) and (True == False))# False\n",
    "print((not False) or (not True))#True\n"
   ]
  },
  {
   "cell_type": "code",
   "execution_count": null,
   "id": "6f0cfd1b",
   "metadata": {},
   "outputs": [],
   "source": [
    "5. What are the six comparison operators?\n",
    "ANSWER\n",
    "\n",
    "These operators compare the values on either side of them and decide the relation among \n",
    "them. They are also called Relational operators.\n",
    "\n",
    "Assume variable a holds the value 10 and variable b holds the value 20, then-\n",
    "\n",
    "1. ==\n",
    "If the values of two operands are equal, then the condition becomes true.\n",
    "(a == b) is not true.\n",
    "2. != \n",
    "If values of two operands are not equal, then condition becomes true.\n",
    "(a!= b) is true.\n",
    "3. >\n",
    "If the value of left operand is greater than the value of right operand, then condition becomes true.\n",
    "(a > b) is not true.\n",
    "4. <\n",
    "If the value of left operand is less than the value of right operand, then condition becomes true.\n",
    "(a < b) is true.\n",
    "5. >=\n",
    "If the value of left operand is greater than or equal to the value of right operand, then condition becomes true.\n",
    "(a >= b) is not true.\n",
    "6. <=\n",
    "If the value of left operand is less than or equal to the value of right operand, then condition becomes true.\n",
    "(a <= b) is true.\n"
   ]
  },
  {
   "cell_type": "code",
   "execution_count": null,
   "id": "b8547f14",
   "metadata": {},
   "outputs": [],
   "source": [
    "6. How do you tell the difference between the equal to and assignment operators?\n",
    "Describe a condition and when you would use one.\n",
    "ANSWER\n",
    "\n",
    "In Python, the equal to operator is \"==\" and is used to compare two values to see if they are equal. \n",
    "The assignment operator is \"=\" and is used to assign a value to a variable.\n",
    "\n",
    "For example, lets say we want to compare two variables \"x\" and \"y\" to see if they are equal.\n",
    "We would use the equal to operator as follows:\n",
    "\n",
    "if x == y:\n",
    "    print(\"x and y are equal\")\n",
    "    \n",
    "This code will check if the values of \"x\" and \"y\" are the same, and if they are, it will print \"x and y are equal\".\n",
    "\n",
    "On the other hand, if we want to assign a value to a variable, we would use the assignment operator as follows:\n",
    "\n",
    "\n",
    "x = 5\n",
    "This code will assign the value 5 to the variable \"x\".\n",
    "\n",
    "Its important to note that using a single equals sign when you mean to use a double equals sign for \n",
    "comparison can result in unintended consequences,as it will change the value of the variable instead of comparing it.\n",
    "\n",
    "\n",
    "\n",
    "\n"
   ]
  },
  {
   "cell_type": "code",
   "execution_count": 3,
   "id": "702bf0d5",
   "metadata": {},
   "outputs": [
    {
     "name": "stdout",
     "output_type": "stream",
     "text": [
      "ham\n",
      "spam\n",
      "spam\n"
     ]
    }
   ],
   "source": [
    "#7. Identify the three blocks in this code:\n",
    "ANSWER\n",
    "\n",
    "spam = 0\n",
    "if spam == 10:\n",
    "    print('eggs')\n",
    "if spam > 5:\n",
    "    print('bacon')\n",
    "else:\n",
    "    print('ham')\n",
    "    print('spam')\n",
    "    print('spam')\n"
   ]
  },
  {
   "cell_type": "code",
   "execution_count": null,
   "id": "07a0b597",
   "metadata": {},
   "outputs": [],
   "source": [
    "Based on the indentation, the three blocks in the given code are:\n",
    "\n",
    "The first block assigns the value 0 to the variable \"spam\".\n",
    "spam = 0\n",
    "\n",
    "The second block contains two if statements, but only the second one will be executed. If the value of \"spam\" is greater than\n",
    "5, it will print 'bacon'. Otherwise, it will print 'ham'.\n",
    "\n",
    "if spam == 10:\n",
    "    print('eggs')\n",
    "if spam > 5:\n",
    "    print('bacon')\n",
    "else:\n",
    "    print('ham')\n",
    "\n",
    "The third block consists of several print statements that will always execute and will print 'spam' twice:\n",
    "\n",
    "print('spam')\n",
    "print('spam')\n",
    "\n",
    "\n"
   ]
  },
  {
   "cell_type": "code",
   "execution_count": 6,
   "id": "dbab6fff",
   "metadata": {},
   "outputs": [
    {
     "name": "stdout",
     "output_type": "stream",
     "text": [
      "enter any value 2\n",
      "Howdy\n"
     ]
    }
   ],
   "source": [
    "#8. Write code that prints Hello if 1 is stored in spam, prints Howdy if 2 is stored in spam, and \n",
    "#prints Greetings! if anything else is stored in spam.\n",
    "ANSWER\n",
    "\n",
    "spam= (int(input(\"enter any value \" )))\n",
    "if spam == 1:\n",
    "    print(\"Hello\")\n",
    "elif spam == 2:\n",
    "    print(\"Howdy\")\n",
    "else:\n",
    "    print(\"Greetings!\")\n"
   ]
  },
  {
   "cell_type": "code",
   "execution_count": null,
   "id": "2109fe77",
   "metadata": {},
   "outputs": [],
   "source": [
    "9.If your programme is stuck in an endless loop, what keys you’ll press?\n",
    "ANSWER\n",
    "\n",
    "If a Python program is stuck in an endless loop, you can press \"Ctrl + C\" on your keyboard to send a Keyboard Interrupt \n",
    "signal to the running program, which will stop its execution.\n",
    "This will raise a KeyboardInterrupt exception, which you can catch and handle in your code if you want to perform some \n",
    "action before exiting the program. However, in many cases, it is better to fix the code to prevent the endless \n",
    "loop from occurring in the first place.\n"
   ]
  },
  {
   "cell_type": "code",
   "execution_count": null,
   "id": "7d6a95f6",
   "metadata": {},
   "outputs": [],
   "source": [
    "10. How can you tell the difference between break and continue?\n",
    "ANSWER\n",
    "\n",
    "\n",
    "In Python, break and continue are control statements used inside loops to alter the loops flow. \n",
    "The main difference between them is:\n",
    "\n",
    "break statement terminates the loop immediately when it is encountered, regardless of whether the loop condition\n",
    "has been satisfied or not. It exits the current loop and continues with the next statement outside of the loop.\n",
    "\n",
    "continue statement, on the other hand, skips the current iteration of the loop and proceeds to the next iteration, \n",
    "without executing the remaining statements in the loop body for that particular iteration.\n",
    "\n",
    "Here is  an example to illustrate the difference between break and continue statements:\n",
    "\n",
    "# using break statement\n",
    "for i in range(1, 6):\n",
    "    if i == 4:\n",
    "        break\n",
    "    print(i)\n",
    "print(\"Loop terminated using break statement\")\n",
    "\n",
    "# using continue statement\n",
    "for i in range(1, 6):\n",
    "    if i == 4:\n",
    "        continue\n",
    "    print(i)\n",
    "print(\"Loop completed using continue statement\")\n",
    "In this code, the first loop will terminate when the value of i is 4 using break statement, \n",
    "while the second loop will skip the value of 4 using continue statement and continue to execute the remaining values."
   ]
  },
  {
   "cell_type": "code",
   "execution_count": null,
   "id": "fae343a9",
   "metadata": {},
   "outputs": [],
   "source": [
    "11. In a for loop, what is the difference between range(10), range(0, 10), and range(0, 10, 1)?\n",
    "ANSWER\n",
    "\n",
    "In Python, the range() function is used to generate a sequence of numbers, which is often used with loops to iterate \n",
    "over a set of values.\n",
    "\n",
    "Here is the difference between range(10), range(0, 10), and range(0, 10, 1) in a for loop:\n",
    "\n",
    "range(10) generates a sequence of numbers from 0 to 9, by default, with a step of 1.\n",
    "It starts at 0 and generates numbers up to, but not including, 10.\n",
    "\n",
    "range(0, 10) also generates a sequence of numbers from 0 to 9, similar to range(10).\n",
    "But, in this case, we explicitly specify the start value (0) and the end value (10) of the sequence.\n",
    "\n",
    "range(0, 10, 1) generates a sequence of numbers from 0 to 9, \n",
    "similar to the previous two. However, in this case, we specify both the start value (0) and the end value (10),\n",
    "as well as the step size (1). By default, the step size is 1, so this is optional.\n",
    "\n",
    "In a for loop, you can use any of these three range() functions to loop over a sequence of numbers, like this:\n",
    "\n",
    "# using range(10)\n",
    "for i in range(10):\n",
    "    print(i)\n",
    "\n",
    "# using range(0, 10)\n",
    "for i in range(0, 10):\n",
    "    print(i)\n",
    "\n",
    "# using range(0, 10, 1)\n",
    "for i in range(0, 10, 1):\n",
    "    print(i)\n",
    "All of these loops will generate the same output, which is the sequence of numbers from 0 to 9. \n",
    "The only difference is in how the sequence is generated using the range() function.\n",
    "\n",
    "\n",
    "\n"
   ]
  },
  {
   "cell_type": "code",
   "execution_count": null,
   "id": "230c0a31",
   "metadata": {},
   "outputs": [],
   "source": [
    "12. Write a short program that prints the numbers 1 to 10 using a for loop.\n",
    "Then write an equivalent program that prints the numbers 1 to 10 using a while loop.\n",
    "ANSWER\n"
   ]
  },
  {
   "cell_type": "code",
   "execution_count": 7,
   "id": "57c061a4",
   "metadata": {},
   "outputs": [
    {
     "name": "stdout",
     "output_type": "stream",
     "text": [
      "1\n",
      "2\n",
      "3\n",
      "4\n",
      "5\n",
      "6\n",
      "7\n",
      "8\n",
      "9\n",
      "10\n"
     ]
    }
   ],
   "source": [
    "# using for loop\n",
    "for i in range(1, 11):\n",
    "    print(i)\n"
   ]
  },
  {
   "cell_type": "code",
   "execution_count": 9,
   "id": "c8b7e6ac",
   "metadata": {},
   "outputs": [
    {
     "name": "stdout",
     "output_type": "stream",
     "text": [
      "1\n",
      "2\n",
      "3\n",
      "4\n",
      "5\n",
      "6\n",
      "7\n",
      "8\n",
      "9\n",
      "10\n"
     ]
    }
   ],
   "source": [
    "# using while loop\n",
    "i = 1\n",
    "while i <= 10:\n",
    "    print(i)\n",
    "    i = i+ 1"
   ]
  },
  {
   "cell_type": "code",
   "execution_count": null,
   "id": "7683134a",
   "metadata": {},
   "outputs": [],
   "source": [
    "#13. If you had a function named bacon() inside a module named spam, how would you call it after importing spam?\n",
    "ANSWER\n",
    "\n",
    "import spam\n",
    "\n",
    "spam.bacon()\n"
   ]
  }
 ],
 "metadata": {
  "kernelspec": {
   "display_name": "Python 3 (ipykernel)",
   "language": "python",
   "name": "python3"
  },
  "language_info": {
   "codemirror_mode": {
    "name": "ipython",
    "version": 3
   },
   "file_extension": ".py",
   "mimetype": "text/x-python",
   "name": "python",
   "nbconvert_exporter": "python",
   "pygments_lexer": "ipython3",
   "version": "3.9.13"
  }
 },
 "nbformat": 4,
 "nbformat_minor": 5
}
