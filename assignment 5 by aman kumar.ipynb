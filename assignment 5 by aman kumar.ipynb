{
 "cells": [
  {
   "cell_type": "code",
   "execution_count": null,
   "id": "11628353",
   "metadata": {},
   "outputs": [],
   "source": [
    "1. What does an empty dictionary's code look like?\n",
    "ANSWER\n",
    "\n",
    "An empty dictionary's code look like two curly brackets: {}"
   ]
  },
  {
   "cell_type": "code",
   "execution_count": null,
   "id": "0410303e",
   "metadata": {},
   "outputs": [],
   "source": [
    "2. What is the value of a dictionary value with the key 'foo' and the value 42?\n",
    "The value of a dictionary value with the key 'foo' and the value 42 is {'foo': 42}\n",
    "ANSWER\n"
   ]
  },
  {
   "cell_type": "code",
   "execution_count": 1,
   "id": "af3b732c",
   "metadata": {},
   "outputs": [],
   "source": [
    "dic = {'foo' : 42}"
   ]
  },
  {
   "cell_type": "code",
   "execution_count": null,
   "id": "66928800",
   "metadata": {},
   "outputs": [],
   "source": [
    "3. What is the most significant distinction between a dictionary and a list?\n",
    "ANSWER\n",
    "\n",
    "The most significant distinction between a dictionary and a list is the way they store and retrieve values.\n",
    "\n",
    "A list is a built-in data structure in Python that represents an ordered collection of elements.\n",
    "Each element is assigned a unique index based on its position in the list. Lists are mutable, \n",
    "which means that their elements can be changed, added, or removed. \n",
    "For example, you can create a list of numbers like this:\n",
    "\n",
    "\n",
    "my_list = [1, 2, 3, 4, 5]\n",
    "A dictionary, on the other hand, is another built-in data structure in Python that represents an unordered collection\n",
    "of key-value pairs. Each key in the dictionary is unique and is used to identify the corresponding value.\n",
    "Dictionaries are mutable, and their elements can be changed, added, or removed.\n",
    "For example, you can create a dictionary of phone numbers like this:\n",
    "\n",
    "\n",
    "my_dict = {'John': '555-1234', 'Jane': '555-5678', 'Bob': '555-9012'}\n"
   ]
  },
  {
   "cell_type": "code",
   "execution_count": 2,
   "id": "15d1d61b",
   "metadata": {},
   "outputs": [
    {
     "ename": "KeyError",
     "evalue": "'foo'",
     "output_type": "error",
     "traceback": [
      "\u001b[1;31m---------------------------------------------------------------------------\u001b[0m",
      "\u001b[1;31mKeyError\u001b[0m                                  Traceback (most recent call last)",
      "\u001b[1;32m~\\AppData\\Local\\Temp\\ipykernel_13136\\4049079124.py\u001b[0m in \u001b[0;36m<module>\u001b[1;34m\u001b[0m\n\u001b[0;32m      1\u001b[0m \u001b[1;31m#4. What happens if you try to access spam['foo'] if spam is {'bar': 100}?\u001b[0m\u001b[1;33m\u001b[0m\u001b[1;33m\u001b[0m\u001b[0m\n\u001b[0;32m      2\u001b[0m \u001b[0mspam\u001b[0m \u001b[1;33m=\u001b[0m \u001b[1;33m{\u001b[0m\u001b[1;34m'bar'\u001b[0m\u001b[1;33m:\u001b[0m \u001b[1;36m100\u001b[0m\u001b[1;33m}\u001b[0m\u001b[1;33m\u001b[0m\u001b[1;33m\u001b[0m\u001b[0m\n\u001b[1;32m----> 3\u001b[1;33m \u001b[0mspam\u001b[0m\u001b[1;33m[\u001b[0m\u001b[1;34m'foo'\u001b[0m\u001b[1;33m]\u001b[0m\u001b[1;33m\u001b[0m\u001b[1;33m\u001b[0m\u001b[0m\n\u001b[0m",
      "\u001b[1;31mKeyError\u001b[0m: 'foo'"
     ]
    }
   ],
   "source": [
    "#4. What happens if you try to access spam['foo'] if spam is {'bar': 100}?\n",
    "spam = {'bar': 100}\n",
    "spam['foo']"
   ]
  },
  {
   "cell_type": "code",
   "execution_count": null,
   "id": "3d13c863",
   "metadata": {},
   "outputs": [],
   "source": [
    "We will get a KeyError error."
   ]
  },
  {
   "cell_type": "code",
   "execution_count": null,
   "id": "ae14fd4b",
   "metadata": {},
   "outputs": [],
   "source": [
    "5. If a dictionary is stored in spam, what is the difference between the expressions 'cat' in spam and 'cat' in spam.keys()?\n",
    "ANSWER\n",
    "\n",
    "If a dictionary is stored in the variable spam, the expressions 'cat' in spam and 'cat' in spam.keys()\n",
    "are equivalent and will both check whether the key 'cat' is present in the dictionary.\n",
    "\n",
    "The expression 'cat' in spam will return a boolean value of True if the key 'cat' is present in the dictionary spam, \n",
    "regardless of whether it maps to a value or not. If the key 'cat' is not present in spam, it will return False.\n",
    "\n",
    "Similarly, the expression 'cat' in spam.keys() will also return a boolean value of True if the key 'cat' is present in \n",
    "the dictionary spam. This expression explicitly checks if the key 'cat' is present among the keys of the spam dictionary."
   ]
  },
  {
   "cell_type": "code",
   "execution_count": null,
   "id": "0ea21f54",
   "metadata": {},
   "outputs": [],
   "source": [
    "6. If a dictionary is stored in spam, what is the difference between the expressions 'cat' in spam and 'cat' in spam.values()?\n",
    " ANSWER\n",
    "    \n",
    "If a dictionary is stored in the variable spam, the expressions 'cat' in spam and 'cat' in spam.values() are quite different.\n",
    "\n",
    "The expression 'cat' in spam checks if the key 'cat' is present in the dictionary spam. If 'cat' is a key in the spam dictionary\n",
    " then the expression will return True. However, if 'cat' is not a key in the spam dictionary, the expression will return False.\n",
    "\n",
    "The expression 'cat' in spam.values() checks if the value 'cat' is present in any of the values in the spam dictionary.\n",
    "If 'cat' is a value in any of the key-value pairs in the spam dictionary, then the expression will return True. However, \n",
    "if 'cat' is not a value in any of the key-value pairs in the spam dictionary, the expression will return False.\n",
    "\n",
    "For example, consider the following dictionary:\n",
    "spam = {'cat': 3, 'dog': 7, 'fish': 1}\n",
    "The expression 'cat' in spam will return True because 'cat' is a key in the spam dictionary. \n",
    "However, the expression 'cat' in spam.values() will return False because 'cat' is not a value in any of the\n",
    "key-value pairs in the spam dictionary.\n",
    "\n",
    "On the other hand, if we modify the dictionary as follows:\n",
    "\n",
    "spam = {'cat': 3, 'dog': 'cat', 'fish': 1}\n",
    "\n",
    "Now, the expression 'cat' in spam.values() will return True because the value 'cat' is present in the key-value pair\n",
    "('dog', 'cat').\n",
    "\n"
   ]
  },
  {
   "cell_type": "code",
   "execution_count": 4,
   "id": "6225cb8e",
   "metadata": {},
   "outputs": [],
   "source": [
    "#7. What is a shortcut for the following code?\n",
    "if 'color' not in spam:\n",
    "    spam['color'] = 'black'\n",
    "ANSWER\n",
    "\n",
    "The setdefault() method is used to retrieve the value of a key in a dictionary, and if the key does not exist,\n",
    "it creates the key with a default value. So you can use it to set the value of the 'color' key to 'black' if the\n",
    "key does not already exist in the spam dictionary:\n",
    "spam.setdefault('color', 'black')"
   ]
  },
  {
   "cell_type": "code",
   "execution_count": null,
   "id": "46971989",
   "metadata": {},
   "outputs": [],
   "source": [
    "8. How do you \"pretty print\" dictionary values using which module and function?\n",
    "ANSWER\n",
    "\n",
    "we can use the pprint module to \"pretty print\" dictionary values. The pprint module provides a pprint()\n",
    "function that will print a dictionary (or other object) in a more human-readable format, with each key-value pair\n",
    "on a separate line, and with indentation to show the hierarchy of nested structures.\n",
    "\n",
    "To use pprint to pretty print a dictionary, you can first import the module, then call the pprint()\n",
    "function and pass the dictionary as an argument:\n",
    "\n",
    "import pprint\n",
    "\n",
    "my_dict = {'name': 'Alice', 'age': 30, 'address': {'street': '123 Main St', 'city': 'Anytown'}}\n",
    "\n",
    "pprint.pprint(my_dict)\n",
    "\n",
    "This will print the dictionary my_dict in a more readable format, with the nested dictionary indented:\n",
    "\n",
    "{'address': {'city': 'Anytown', 'street': '123 Main St'},\n",
    " 'age': 30,\n",
    " 'name': 'Alice'}\n",
    "In addition to pprint(), the pprint module also provides a pformat() function that returns a \n",
    "string representation of the pretty-printed dictionary, which can be useful for storing or transmitting the data as a string.\n",
    "\n"
   ]
  }
 ],
 "metadata": {
  "kernelspec": {
   "display_name": "Python 3 (ipykernel)",
   "language": "python",
   "name": "python3"
  },
  "language_info": {
   "codemirror_mode": {
    "name": "ipython",
    "version": 3
   },
   "file_extension": ".py",
   "mimetype": "text/x-python",
   "name": "python",
   "nbconvert_exporter": "python",
   "pygments_lexer": "ipython3",
   "version": "3.9.13"
  }
 },
 "nbformat": 4,
 "nbformat_minor": 5
}
