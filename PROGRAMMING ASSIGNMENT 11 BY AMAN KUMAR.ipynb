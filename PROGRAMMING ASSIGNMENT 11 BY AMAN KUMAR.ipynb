{
 "cells": [
  {
   "cell_type": "code",
   "execution_count": null,
   "id": "97a569eb",
   "metadata": {},
   "outputs": [],
   "source": [
    "1.Write a Python program to find words which are greater than given length k?\n"
   ]
  },
  {
   "cell_type": "code",
   "execution_count": 1,
   "id": "d1fc834e",
   "metadata": {},
   "outputs": [],
   "source": [
    "def find_long_words(text, k):\n",
    "    words = text.split()\n",
    "    long_words = []\n",
    "    for word in words:\n",
    "        if len(word) > k:\n",
    "            long_words.append(word)\n",
    "    return long_words\n",
    "\n"
   ]
  },
  {
   "cell_type": "code",
   "execution_count": 2,
   "id": "0116b6c9",
   "metadata": {},
   "outputs": [
    {
     "name": "stdout",
     "output_type": "stream",
     "text": [
      "The words longer than 4 characters are: ['quick', 'brown', 'jumps']\n"
     ]
    }
   ],
   "source": [
    "my_text = \"The quick brown fox jumps over the lazy dog\"\n",
    "word_length = 4\n",
    "long_words = find_long_words(my_text, word_length)\n",
    "print(f\"The words longer than {word_length} characters are: {long_words}\")\n"
   ]
  },
  {
   "cell_type": "code",
   "execution_count": null,
   "id": "e2c1c7d5",
   "metadata": {},
   "outputs": [],
   "source": [
    "2.Write a Python program for removing i-th character from a string?\n"
   ]
  },
  {
   "cell_type": "code",
   "execution_count": 3,
   "id": "1c690059",
   "metadata": {},
   "outputs": [
    {
     "name": "stdout",
     "output_type": "stream",
     "text": [
      "The new string is: Hello, orld!\n"
     ]
    }
   ],
   "source": [
    "def remove_char(s, i):\n",
    "    return s[:i] + s[i+1:]\n",
    "\n",
    "my_string = \"Hello, World!\"\n",
    "char_index = 7\n",
    "new_string = remove_char(my_string, char_index)\n",
    "print(f\"The new string is: {new_string}\")\n"
   ]
  },
  {
   "cell_type": "code",
   "execution_count": null,
   "id": "cea205a6",
   "metadata": {},
   "outputs": [],
   "source": [
    "3.Write a Python program to split and join a string?\n"
   ]
  },
  {
   "cell_type": "code",
   "execution_count": 4,
   "id": "c5e97e8e",
   "metadata": {},
   "outputs": [
    {
     "name": "stdout",
     "output_type": "stream",
     "text": [
      "Original string: Hello, world! How are you?\n",
      "List of words: ['Hello,', 'world!', 'How', 'are', 'you?']\n",
      "Joined string: Hello, world! How are you?\n"
     ]
    }
   ],
   "source": [
    "string_to_split = \"Hello, world! How are you?\"\n",
    "\n",
    "list_of_words = string_to_split.split()\n",
    "\n",
    "joined_string = \" \".join(list_of_words)\n",
    "\n",
    "print(\"Original string:\", string_to_split)\n",
    "print(\"List of words:\", list_of_words)\n",
    "print(\"Joined string:\", joined_string)\n"
   ]
  },
  {
   "cell_type": "code",
   "execution_count": null,
   "id": "f7edf8cb",
   "metadata": {},
   "outputs": [],
   "source": [
    "4.Write a Python to check if a given string is binary string or not?\n"
   ]
  },
  {
   "cell_type": "code",
   "execution_count": 5,
   "id": "aee4913a",
   "metadata": {},
   "outputs": [
    {
     "name": "stdout",
     "output_type": "stream",
     "text": [
      "10101010 is a binary string\n",
      "01234567 is not a binary string\n"
     ]
    }
   ],
   "source": [
    "def is_binary_string(string):\n",
    "    \n",
    "    for char in string:\n",
    "       \n",
    "        if char != '0' and char != '1':\n",
    "            return False\n",
    "   \n",
    "    return True\n",
    "\n",
    "\n",
    "string1 = '10101010'\n",
    "string2 = '01234567'\n",
    "\n",
    "if is_binary_string(string1):\n",
    "    print(string1, \"is a binary string\")\n",
    "else:\n",
    "    print(string1, \"is not a binary string\")\n",
    "\n",
    "if is_binary_string(string2):\n",
    "    print(string2, \"is a binary string\")\n",
    "else:\n",
    "    print(string2, \"is not a binary string\")\n"
   ]
  },
  {
   "cell_type": "code",
   "execution_count": null,
   "id": "f8339537",
   "metadata": {},
   "outputs": [],
   "source": [
    "5.Write a Python program to find uncommon words from two Strings?\n"
   ]
  },
  {
   "cell_type": "code",
   "execution_count": 7,
   "id": "840f23c6",
   "metadata": {},
   "outputs": [],
   "source": [
    "def uncommon_words(string1, string2):\n",
    "    \n",
    "    list1 = string1.split()\n",
    "    list2 = string2.split()\n",
    "    \n",
    "    uncommon = []\n",
    "    \n",
    "    for word in list1:\n",
    "       \n",
    "        if word not in list2:\n",
    "            uncommon.append(word)\n",
    "    \n",
    "    for word in list2:\n",
    "        \n",
    "        if word not in list1:\n",
    "            uncommon.append(word)\n",
    "   \n",
    "    return uncommon\n",
    "\n",
    "\n"
   ]
  },
  {
   "cell_type": "code",
   "execution_count": 8,
   "id": "21fe66e1",
   "metadata": {},
   "outputs": [
    {
     "name": "stdout",
     "output_type": "stream",
     "text": [
      "['lazy', 'dog', 'jumps', 'over']\n"
     ]
    }
   ],
   "source": [
    "string1 = 'the quick brown fox'\n",
    "string2 = 'the lazy dog jumps over the quick brown fox'\n",
    "\n",
    "print(uncommon_words(string1, string2))\n"
   ]
  },
  {
   "cell_type": "code",
   "execution_count": null,
   "id": "e1b89a61",
   "metadata": {},
   "outputs": [],
   "source": [
    "6.Write a Python to find all duplicate characters in string?\n"
   ]
  },
  {
   "cell_type": "code",
   "execution_count": 9,
   "id": "72da4388",
   "metadata": {},
   "outputs": [],
   "source": [
    "def find_duplicate_characters(string):\n",
    "   \n",
    "    duplicates = set()\n",
    "   \n",
    "    seen = set()\n",
    " \n",
    "    for char in string:\n",
    "        \n",
    "        if char in seen:\n",
    "            duplicates.add(char)\n",
    "      \n",
    "        else:\n",
    "            seen.add(char)\n",
    "\n",
    "    return duplicates\n",
    "\n"
   ]
  },
  {
   "cell_type": "code",
   "execution_count": 10,
   "id": "16a45cf6",
   "metadata": {},
   "outputs": [
    {
     "name": "stdout",
     "output_type": "stream",
     "text": [
      "Duplicate characters: {'l', 'o'}\n"
     ]
    }
   ],
   "source": [
    "string = \"hello world\"\n",
    "\n",
    "print(\"Duplicate characters:\", find_duplicate_characters(string))\n"
   ]
  },
  {
   "cell_type": "code",
   "execution_count": null,
   "id": "6d590163",
   "metadata": {},
   "outputs": [],
   "source": [
    "7.Write a Python Program to check if a string contains any special character?\n"
   ]
  },
  {
   "cell_type": "code",
   "execution_count": 11,
   "id": "c84aa232",
   "metadata": {},
   "outputs": [],
   "source": [
    "import re\n",
    "\n",
    "\n",
    "def has_special_character(string):\n",
    "    \n",
    "    regex = re.compile('[@_!#$%^&*()<>?/\\|}{~:]')\n",
    "    \n",
    "    if(regex.search(string) == None):\n",
    "        \n",
    "        return False\n",
    "    else:\n",
    "        \n",
    "        return True\n",
    "\n"
   ]
  },
  {
   "cell_type": "code",
   "execution_count": 12,
   "id": "6d8fb391",
   "metadata": {},
   "outputs": [
    {
     "name": "stdout",
     "output_type": "stream",
     "text": [
      "False\n",
      "True\n"
     ]
    }
   ],
   "source": [
    "string1 = \"hello world\"\n",
    "string2 = \"hello@world\"\n",
    "\n",
    "print(has_special_character(string1))\n",
    "print(has_special_character(string2))\n"
   ]
  },
  {
   "cell_type": "code",
   "execution_count": null,
   "id": "eb858a20",
   "metadata": {},
   "outputs": [],
   "source": []
  }
 ],
 "metadata": {
  "kernelspec": {
   "display_name": "Python 3 (ipykernel)",
   "language": "python",
   "name": "python3"
  },
  "language_info": {
   "codemirror_mode": {
    "name": "ipython",
    "version": 3
   },
   "file_extension": ".py",
   "mimetype": "text/x-python",
   "name": "python",
   "nbconvert_exporter": "python",
   "pygments_lexer": "ipython3",
   "version": "3.9.13"
  }
 },
 "nbformat": 4,
 "nbformat_minor": 5
}
