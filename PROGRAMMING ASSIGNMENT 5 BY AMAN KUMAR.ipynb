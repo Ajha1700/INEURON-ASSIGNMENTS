{
 "cells": [
  {
   "cell_type": "code",
   "execution_count": null,
   "id": "bbd000ba",
   "metadata": {},
   "outputs": [],
   "source": [
    "1.Write a Python Program to Find LCM?"
   ]
  },
  {
   "cell_type": "code",
   "execution_count": 1,
   "id": "d324dae8",
   "metadata": {},
   "outputs": [
    {
     "name": "stdout",
     "output_type": "stream",
     "text": [
      "LCM of 24 and 36 is 72\n"
     ]
    }
   ],
   "source": [
    "def gcd(a, b):\n",
    "    if b == 0:\n",
    "        return a\n",
    "    else:\n",
    "        return gcd(b, a % b)\n",
    "\n",
    "def lcm(a, b):\n",
    "    return (a*b)//gcd(a, b)\n",
    "\n",
    "num1 = 24\n",
    "num2 = 36\n",
    "print(\"LCM of\", num1, \"and\", num2, \"is\", lcm(num1, num2))\n"
   ]
  },
  {
   "cell_type": "code",
   "execution_count": null,
   "id": "68a60ecf",
   "metadata": {},
   "outputs": [],
   "source": [
    "2.Write a Python Program to Find HCF?\n"
   ]
  },
  {
   "cell_type": "code",
   "execution_count": 2,
   "id": "9e386078",
   "metadata": {},
   "outputs": [
    {
     "name": "stdout",
     "output_type": "stream",
     "text": [
      "HCF of 24 and 36 is 12\n"
     ]
    }
   ],
   "source": [
    "def gcd(a, b):\n",
    "    if b == 0:\n",
    "        return a\n",
    "    else:\n",
    "        return gcd(b, a % b)\n",
    "\n",
    "num1 = 24\n",
    "num2 = 36\n",
    "print(\"HCF of\", num1, \"and\", num2, \"is\", gcd(num1, num2))\n"
   ]
  },
  {
   "cell_type": "code",
   "execution_count": null,
   "id": "99654ac9",
   "metadata": {},
   "outputs": [],
   "source": [
    "3.Write a Python Program to Convert Decimal to Binary, Octal and Hexadecimal?\n"
   ]
  },
  {
   "cell_type": "code",
   "execution_count": 3,
   "id": "b5249658",
   "metadata": {},
   "outputs": [
    {
     "name": "stdout",
     "output_type": "stream",
     "text": [
      "Enter a decimal number: 45\n",
      "The binary equivalent of 45 is 0b101101\n",
      "The octal equivalent of 45 is 0o55\n",
      "The hexadecimal equivalent of 45 is 0x2d\n"
     ]
    }
   ],
   "source": [
    "decimal_number = int(input(\"Enter a decimal number: \"))\n",
    "\n",
    "binary_number = bin(decimal_number)\n",
    "print(\"The binary equivalent of\", decimal_number, \"is\", binary_number)\n",
    "\n",
    "octal_number = oct(decimal_number)\n",
    "print(\"The octal equivalent of\", decimal_number, \"is\", octal_number)\n",
    "\n",
    "hexadecimal_number = hex(decimal_number)\n",
    "print(\"The hexadecimal equivalent of\", decimal_number, \"is\", hexadecimal_number)\n"
   ]
  },
  {
   "cell_type": "code",
   "execution_count": null,
   "id": "b0607e91",
   "metadata": {},
   "outputs": [],
   "source": [
    "4.Write a Python Program To Find ASCII value of a character?\n"
   ]
  },
  {
   "cell_type": "code",
   "execution_count": 4,
   "id": "224b8605",
   "metadata": {},
   "outputs": [
    {
     "name": "stdout",
     "output_type": "stream",
     "text": [
      "Enter a character: h\n",
      "The ASCII value of h is 104\n"
     ]
    }
   ],
   "source": [
    "character = input(\"Enter a character: \")\n",
    "\n",
    "\n",
    "ascii_value = ord(character)\n",
    "\n",
    "print(\"The ASCII value of\", character, \"is\", ascii_value)\n"
   ]
  },
  {
   "cell_type": "code",
   "execution_count": null,
   "id": "f912e150",
   "metadata": {},
   "outputs": [],
   "source": [
    "5.Write a Python Program to Make a Simple Calculator with 4 basic mathematical operations?\n"
   ]
  },
  {
   "cell_type": "code",
   "execution_count": 5,
   "id": "0d6c3dd2",
   "metadata": {},
   "outputs": [
    {
     "name": "stdout",
     "output_type": "stream",
     "text": [
      "Select operation:\n",
      "1. Add\n",
      "2. Subtract\n",
      "3. Multiply\n",
      "4. Divide\n",
      "Enter choice (1/2/3/4): 4\n",
      "Enter first number: 5\n",
      "Enter second number: 66\n",
      "5.0 / 66.0 = 0.07575757575757576\n"
     ]
    }
   ],
   "source": [
    "\n",
    "def add(x, y):\n",
    "    return x + y\n",
    "\n",
    "\n",
    "def subtract(x, y):\n",
    "    return x - y\n",
    "\n",
    "\n",
    "def multiply(x, y):\n",
    "    return x * y\n",
    "\n",
    "\n",
    "def divide(x, y):\n",
    "    return x / y\n",
    "\n",
    "\n",
    "while True:\n",
    "    \n",
    "    print(\"Select operation:\")\n",
    "    print(\"1. Add\")\n",
    "    print(\"2. Subtract\")\n",
    "    print(\"3. Multiply\")\n",
    "    print(\"4. Divide\")\n",
    "\n",
    "    \n",
    "    choice = input(\"Enter choice (1/2/3/4): \")\n",
    "\n",
    "    \n",
    "    if choice in ('1', '2', '3', '4'):\n",
    "        num1 = float(input(\"Enter first number: \"))\n",
    "        num2 = float(input(\"Enter second number: \"))\n",
    "\n",
    "        if choice == '1':\n",
    "            print(num1, \"+\", num2, \"=\", add(num1, num2))\n",
    "\n",
    "        elif choice == '2':\n",
    "            print(num1, \"-\", num2, \"=\", subtract(num1, num2))\n",
    "\n",
    "        elif choice == '3':\n",
    "            print(num1, \"*\", num2, \"=\", multiply(num1, num2))\n",
    "\n",
    "        elif choice == '4':\n",
    "            print(num1, \"/\", num2, \"=\", divide(num1, num2))\n",
    "        break\n",
    "    else:\n",
    "        print(\"Invalid input. Please enter a valid choice.\")\n"
   ]
  },
  {
   "cell_type": "code",
   "execution_count": null,
   "id": "bf3d06ba",
   "metadata": {},
   "outputs": [],
   "source": []
  }
 ],
 "metadata": {
  "kernelspec": {
   "display_name": "Python 3 (ipykernel)",
   "language": "python",
   "name": "python3"
  },
  "language_info": {
   "codemirror_mode": {
    "name": "ipython",
    "version": 3
   },
   "file_extension": ".py",
   "mimetype": "text/x-python",
   "name": "python",
   "nbconvert_exporter": "python",
   "pygments_lexer": "ipython3",
   "version": "3.9.13"
  }
 },
 "nbformat": 4,
 "nbformat_minor": 5
}
