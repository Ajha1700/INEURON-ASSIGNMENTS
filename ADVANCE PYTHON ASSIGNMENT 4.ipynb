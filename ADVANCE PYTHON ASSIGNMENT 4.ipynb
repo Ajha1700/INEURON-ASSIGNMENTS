{
 "cells": [
  {
   "cell_type": "code",
   "execution_count": null,
   "id": "dab56fc2",
   "metadata": {},
   "outputs": [],
   "source": [
    "Q1. Which two operator overloading methods can you use in your classes to support iteration?\n",
    "\n",
    "ANSWER\n",
    "To support iteration in your custom class, you need to define two special methods in your class:\n",
    "\n",
    "__iter__(self): This method is called when an iterator object is requested for your class instance. \n",
    "    It should return an iterator object that defines the __next__ method.\n",
    "\n",
    "__next__(self): This method is called by the iterator object's __next__ method to get the next value in the sequence.\n",
    "    It should return the next value, or raise a StopIteration exception if there are no more values.\n",
    "\n",
    "Here's an example that demonstrates how to use these two methods to support iteration in a custom class:"
   ]
  },
  {
   "cell_type": "code",
   "execution_count": 1,
   "id": "c1f67d5d",
   "metadata": {},
   "outputs": [],
   "source": [
    "class MyList:\n",
    "    def __init__(self, data):\n",
    "        self.data = data\n",
    "    \n",
    "    def __iter__(self):\n",
    "        self.index = 0\n",
    "        return self\n",
    "    \n",
    "    def __next__(self):\n",
    "        if self.index >= len(self.data):\n",
    "            raise StopIteration\n",
    "        value = self.data[self.index]\n",
    "        self.index += 1\n",
    "        return value\n"
   ]
  },
  {
   "cell_type": "code",
   "execution_count": null,
   "id": "4616e1bb",
   "metadata": {},
   "outputs": [],
   "source": [
    "With these two methods defined, you can use the for loop to iterate over instances of the MyList class, like this:"
   ]
  },
  {
   "cell_type": "code",
   "execution_count": 2,
   "id": "b10096e4",
   "metadata": {},
   "outputs": [
    {
     "name": "stdout",
     "output_type": "stream",
     "text": [
      "1\n",
      "2\n",
      "3\n",
      "4\n"
     ]
    }
   ],
   "source": [
    "my_list = MyList([1, 2, 3, 4])\n",
    "for item in my_list:\n",
    "    print(item)\n"
   ]
  },
  {
   "cell_type": "code",
   "execution_count": null,
   "id": "64948b6b",
   "metadata": {},
   "outputs": [],
   "source": [
    "Q2. In what contexts do the two operator overloading methods manage printing?\n",
    "\n",
    "ANSWER\n",
    "\n",
    "The two operator overloading methods that manage printing in Python are:\n",
    "\n",
    "__str__(self): This method is called by the built-in str() function and by the print() function to get a printable\n",
    "    string representation of an object. It should return a string that represents the object in a human-readable format. \n",
    "This method is also used when an object is displayed in the interactive console or when it is converted to a string using \n",
    "the str() function.\n",
    "\n",
    "__repr__(self): This method is called by the built-in repr() function to get a string representation of an object that\n",
    "    can be used to recreate the object. It should return a string that represents the object in a format that can be parsed\n",
    "by Python. This method is also used when an object is displayed in debugging output or when it is converted to a string using \n",
    "the repr() function.\n",
    "\n",
    "Here's an example that demonstrates the use of these two methods for printing:"
   ]
  },
  {
   "cell_type": "code",
   "execution_count": 3,
   "id": "da548611",
   "metadata": {},
   "outputs": [],
   "source": [
    "class Person:\n",
    "    def __init__(self, name, age):\n",
    "        self.name = name\n",
    "        self.age = age\n",
    "    \n",
    "    def __str__(self):\n",
    "        return f\"{self.name} ({self.age} years old)\"\n",
    "    \n",
    "    def __repr__(self):\n",
    "        return f\"Person('{self.name}', {self.age})\"\n"
   ]
  },
  {
   "cell_type": "code",
   "execution_count": null,
   "id": "a6575659",
   "metadata": {},
   "outputs": [],
   "source": [
    "the Person class defines the __str__ and __repr__ methods to provide a human-readable and a machine-readable\n",
    "representation of a Person object. The __str__ method returns a string in the format \"{name} ({age} years old)\", while\n",
    "the __repr__ method returns a string in the format \"Person('{name}', {age})\". \n",
    "The __repr__ method includes quotes around the name to ensure that the representation can be parsed by Python.\n",
    "\n",
    "You can use these methods in different contexts. For example, if you create an instance of the Person class and print \n",
    "it using the print() function, the __str__ method will be called to provide a human-readable representation of the object:"
   ]
  },
  {
   "cell_type": "code",
   "execution_count": 4,
   "id": "767103a0",
   "metadata": {},
   "outputs": [
    {
     "name": "stdout",
     "output_type": "stream",
     "text": [
      "John (30 years old)\n"
     ]
    }
   ],
   "source": [
    "person = Person(\"John\", 30)\n",
    "print(person) \n"
   ]
  },
  {
   "cell_type": "code",
   "execution_count": null,
   "id": "045a1dd3",
   "metadata": {},
   "outputs": [],
   "source": [
    "On the other hand, if you display the object in the interactive console or use the repr() function, the __repr__ method\n",
    "will be called to provide a machine-readable representation of the object:"
   ]
  },
  {
   "cell_type": "code",
   "execution_count": 6,
   "id": "db4bc304",
   "metadata": {},
   "outputs": [
    {
     "name": "stdout",
     "output_type": "stream",
     "text": [
      "John (30 years old)\n"
     ]
    },
    {
     "data": {
      "text/plain": [
       "\"Person('John', 30)\""
      ]
     },
     "execution_count": 6,
     "metadata": {},
     "output_type": "execute_result"
    }
   ],
   "source": [
    "person = Person(\"John\", 30)\n",
    "print (person)  \n",
    "repr(person)  \n"
   ]
  },
  {
   "cell_type": "code",
   "execution_count": null,
   "id": "8fce192a",
   "metadata": {},
   "outputs": [],
   "source": [
    "Q3. In a class, how do you intercept slice operations?\n",
    "\n",
    "ANSWER\n",
    "To intercept slice operations in a class, you need to define the __getitem__ method with a slice object as the index. \n",
    "The slice object has two attributes, start and stop, that represent the start and end indices of the slice.\n",
    "\n",
    "Here's an example that demonstrates how to intercept slice operations in a custom class:\n"
   ]
  },
  {
   "cell_type": "code",
   "execution_count": 7,
   "id": "998ba8c6",
   "metadata": {},
   "outputs": [],
   "source": [
    "class MyList:\n",
    "    def __init__(self, data):\n",
    "        self.data = data\n",
    "    \n",
    "    def __getitem__(self, index):\n",
    "        if isinstance(index, slice):\n",
    "            start = index.start or 0\n",
    "            stop = index.stop or len(self.data)\n",
    "            step = index.step or 1\n",
    "            return self.data[start:stop:step]\n",
    "        else:\n",
    "            return self.data[index]\n"
   ]
  },
  {
   "cell_type": "code",
   "execution_count": null,
   "id": "51b655d2",
   "metadata": {},
   "outputs": [],
   "source": [
    " the MyList class defines the __getitem__ method to support slicing of the list. If the index argument is a slice object,\n",
    "    the method extracts the start, stop, and step values from the slice object and uses them to slice the underlying data \n",
    "    list. If the index argument is an integer, the method retrieves the corresponding element from the data list.\n",
    "\n",
    "With this method defined, you can use the slice notation to get a slice of the list, like this:"
   ]
  },
  {
   "cell_type": "code",
   "execution_count": 8,
   "id": "b6b0e929",
   "metadata": {},
   "outputs": [
    {
     "name": "stdout",
     "output_type": "stream",
     "text": [
      "[2, 3, 4]\n"
     ]
    }
   ],
   "source": [
    "my_list = MyList([1, 2, 3, 4, 5])\n",
    "print(my_list[1:4])  \n"
   ]
  },
  {
   "cell_type": "code",
   "execution_count": null,
   "id": "fda35735",
   "metadata": {},
   "outputs": [],
   "source": [
    "Q4. In a class, how do you capture in-place addition?\n",
    "\n",
    "ANSWER\n",
    "To capture in-place addition in a class, you need to define the __iadd__ method. This method is called when an \n",
    "in-place addition operation, using the += operator, is performed on an instance of the class.\n",
    "\n",
    "Here's an example that demonstrates how to capture in-place addition in a custom class:\n",
    "\n"
   ]
  },
  {
   "cell_type": "code",
   "execution_count": 9,
   "id": "b380c084",
   "metadata": {},
   "outputs": [],
   "source": [
    "class MyNumber:\n",
    "    def __init__(self, value):\n",
    "        self.value = value\n",
    "    \n",
    "    def __iadd__(self, other):\n",
    "        self.value += other\n",
    "        return self\n",
    "    \n",
    "    def __repr__(self):\n",
    "        return f\"MyNumber({self.value})\"\n"
   ]
  },
  {
   "cell_type": "code",
   "execution_count": null,
   "id": "e8092371",
   "metadata": {},
   "outputs": [],
   "source": [
    "the MyNumber class defines the __iadd__ method to support in-place addition of a number to an instance of \n",
    "the class. The method takes two arguments, self and other, where self is the instance of the class and other is the value\n",
    "being added. The method adds the other value to the value attribute of the instance and returns self.\n",
    "\n",
    "With this method defined, you can use the += operator to perform in-place addition on an instance of the class, like this:\n",
    "\n"
   ]
  },
  {
   "cell_type": "code",
   "execution_count": 10,
   "id": "f8bdf035",
   "metadata": {},
   "outputs": [
    {
     "name": "stdout",
     "output_type": "stream",
     "text": [
      "MyNumber(8)\n"
     ]
    }
   ],
   "source": [
    "a = MyNumber(5)\n",
    "a += 3\n",
    "print(a)  "
   ]
  },
  {
   "cell_type": "code",
   "execution_count": null,
   "id": "83249c13",
   "metadata": {},
   "outputs": [],
   "source": [
    "Q5. When is it appropriate to use operator overloading?\n",
    "\n",
    "ANSWER\n",
    "Operator overloading is used when we want to use an operator other than its normal operation to have \n",
    "different meaning according to the context required in user defined function."
   ]
  },
  {
   "cell_type": "code",
   "execution_count": 11,
   "id": "b5bfb728",
   "metadata": {},
   "outputs": [
    {
     "name": "stdout",
     "output_type": "stream",
     "text": [
      "Total Number of Pages -> 300\n"
     ]
    }
   ],
   "source": [
    "class Book:\n",
    "    def __init__(self,pages):\n",
    "        self.pages = pages\n",
    "    def __add__(self,other):\n",
    "        return self.pages+other.pages\n",
    "b1 = Book(100)\n",
    "b2 = Book(200)\n",
    "print(f'Total Number of Pages -> {b1+b2}')\n"
   ]
  },
  {
   "cell_type": "code",
   "execution_count": null,
   "id": "e73284dc",
   "metadata": {},
   "outputs": [],
   "source": []
  }
 ],
 "metadata": {
  "kernelspec": {
   "display_name": "Python 3 (ipykernel)",
   "language": "python",
   "name": "python3"
  },
  "language_info": {
   "codemirror_mode": {
    "name": "ipython",
    "version": 3
   },
   "file_extension": ".py",
   "mimetype": "text/x-python",
   "name": "python",
   "nbconvert_exporter": "python",
   "pygments_lexer": "ipython3",
   "version": "3.9.13"
  }
 },
 "nbformat": 4,
 "nbformat_minor": 5
}
