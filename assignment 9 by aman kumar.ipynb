{
 "cells": [
  {
   "cell_type": "code",
   "execution_count": null,
   "id": "0f8e1e25",
   "metadata": {},
   "outputs": [],
   "source": [
    "1. To what does a relative path refer?\n",
    "ANSWER\n",
    "A relative path refers to the location of a file or directory relative to the current working directory of the program\n",
    "or the user's current location in the file system."
   ]
  },
  {
   "cell_type": "code",
   "execution_count": null,
   "id": "6abe9797",
   "metadata": {},
   "outputs": [],
   "source": [
    "2. What does an absolute path start with your operating system?\n",
    "\n",
    "ANSWER\n",
    "Absolute paths start with the root folder, such as / or C:. An absolute path always contains the root elements and \n",
    "the complete list of directories to locate the specific file or folder. All the information required to locate the\n",
    "file or folder is available in the absolute path."
   ]
  },
  {
   "cell_type": "code",
   "execution_count": null,
   "id": "2ff2e042",
   "metadata": {},
   "outputs": [],
   "source": [
    "3. What do the functions os.getcwd() and os.chdir() do?\n",
    "ANSWER\n",
    "\n",
    "The os.getcwd() function returns the current working directory. The os.chdir() function changes the current working directory."
   ]
  },
  {
   "cell_type": "code",
   "execution_count": null,
   "id": "38a53819",
   "metadata": {},
   "outputs": [],
   "source": [
    "4. What are the . and .. folders?\n",
    "\n",
    "ANSWER\n",
    "The . and .. folders are special directory entries that provide a way to refer to the current and parent\n",
    "directories in a file system."
   ]
  },
  {
   "cell_type": "code",
   "execution_count": null,
   "id": "b6aeaf01",
   "metadata": {},
   "outputs": [],
   "source": [
    "5. In C:\\bacon\\eggs\\spam.txt, which part is the dir name, and which part is the base name?\n",
    "ANSWER\n",
    "In the file path C:\\bacon\\eggs\\spam.txt, the directory name is C:\\bacon\\eggs, and the base name is spam.txt.\n",
    "\n",
    "The directory name refers to the path of the directory that contains the file, which in this case is C:\\bacon\\eggs.\n",
    "    The base name refers to the name of the file itself, which is spam.txt."
   ]
  },
  {
   "cell_type": "code",
   "execution_count": null,
   "id": "e14401b6",
   "metadata": {},
   "outputs": [],
   "source": [
    "6. What are the three “mode” arguments that can be passed to the open() function?\n",
    "ANSWER\n",
    "The string 'r' for read mode, 'w' for write mode, and 'a' for append mode"
   ]
  },
  {
   "cell_type": "code",
   "execution_count": null,
   "id": "782f4f33",
   "metadata": {},
   "outputs": [],
   "source": [
    "7. What happens if an existing file is opened in write mode?\n",
    "ANSWER\n",
    "An existing file opened in write mode is erased and completely overwritten."
   ]
  },
  {
   "cell_type": "code",
   "execution_count": null,
   "id": "276669ce",
   "metadata": {},
   "outputs": [],
   "source": [
    "8. How do you tell the difference between read() and readlines()?\n",
    "ANSWER\n",
    "The read() method returns the files entire contents as a single string value.\n",
    "The readlines() method returns a list of strings, where each string is a line from the file's contents."
   ]
  },
  {
   "cell_type": "code",
   "execution_count": null,
   "id": "e8a3bd91",
   "metadata": {},
   "outputs": [],
   "source": [
    "9. What data structure does a shelf value resemble?\n",
    "ANSWER\n",
    "A shelf value resembles a dictionary value; it has keys and values, along with keys() and values()\n",
    "methods that work similarly to the dictionary methods of the same names."
   ]
  }
 ],
 "metadata": {
  "kernelspec": {
   "display_name": "Python 3 (ipykernel)",
   "language": "python",
   "name": "python3"
  },
  "language_info": {
   "codemirror_mode": {
    "name": "ipython",
    "version": 3
   },
   "file_extension": ".py",
   "mimetype": "text/x-python",
   "name": "python",
   "nbconvert_exporter": "python",
   "pygments_lexer": "ipython3",
   "version": "3.9.13"
  }
 },
 "nbformat": 4,
 "nbformat_minor": 5
}
