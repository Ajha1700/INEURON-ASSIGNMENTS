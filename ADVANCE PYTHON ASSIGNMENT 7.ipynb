{
 "cells": [
  {
   "cell_type": "code",
   "execution_count": null,
   "id": "91ca58e8",
   "metadata": {},
   "outputs": [],
   "source": [
    "Q1. What is the purpose of the try statement?\n",
    "\n",
    "ANSWER\n",
    "\n",
    "try statement is used for exception handling in python. it consists of a block of risky statements which might \n",
    "cause an exception during runtime. if code within try block raises exception, then the exception will be reverted to \n",
    "the corresponding except block if multiple except blocks are present, else it willbe reverted to the default except block. \n",
    "In short try and except in union avoid programs from crashing during runtime due to exceptions.\n",
    "\n"
   ]
  },
  {
   "cell_type": "code",
   "execution_count": 1,
   "id": "2c855523",
   "metadata": {},
   "outputs": [
    {
     "name": "stdout",
     "output_type": "stream",
     "text": [
      "Division by Zero is Not Possible\n"
     ]
    }
   ],
   "source": [
    "try:\n",
    "    print(10/0)\n",
    "except ZeroDivisionError:\n",
    "    print('Division by Zero is Not Possible')"
   ]
  },
  {
   "cell_type": "code",
   "execution_count": null,
   "id": "2d0a3a7d",
   "metadata": {},
   "outputs": [],
   "source": [
    "Q2. What are the two most popular try statement variations?\n",
    "\n",
    "ANSWER\n",
    "In Python, the try-except and try-finally statements are two popular variations of the try statement.\n",
    "\n",
    "try-except statement: This statement is used to catch and handle exceptions that may occur in the try block.\n",
    "    The general syntax of a try-except statement is as follows:\n",
    "\n",
    "try:\n",
    "    # Code that may raise an exception\n",
    "except ExceptionType:\n",
    "    # Code to handle the exception\n",
    "    \n",
    "In the above syntax, you replace ExceptionType with the specific type of exception you want to catch. If an exception\n",
    "of the specified type is raised in the try block, the code in the except block will be executed.\n",
    "\n",
    "try-finally statement: This statement is used to ensure that a block of code is always executed, whether an exception\n",
    "    is raised or not. The general syntax of a try-finally statement is as follows:\n",
    "\n",
    "try:\n",
    "    # Code that may raise an exception\n",
    "finally:\n",
    "    # Code that is always executed, regardless of whether an exception is raised\n",
    "    \n",
    "In the above syntax, the code in the finally block is always executed, whether or not an exception is raised in the try block.\n",
    "This is useful for cleaning up resources, such as closing files or database connections, that need to be released regardless \n",
    "of whether an exception occurs.\n",
    "\n"
   ]
  },
  {
   "cell_type": "code",
   "execution_count": null,
   "id": "91b86607",
   "metadata": {},
   "outputs": [],
   "source": [
    "Q3. What is the purpose of the raise statement?\n",
    "\n",
    "ANSWER\n",
    "raise statement is used to trigger an exception explicitly, if a certain condition is not as per requirement of programmer.\n",
    "raise statement helps in triggering exception as per programming logic.\n"
   ]
  },
  {
   "cell_type": "code",
   "execution_count": null,
   "id": "6f31c229",
   "metadata": {},
   "outputs": [],
   "source": [
    "Q4. What does the assert statement do, and what other statement is it like?\n",
    "\n",
    "ANSWER\n",
    "\n",
    "The assert statement in Python is a debugging aid that tests whether a condition is true, and triggers an error\n",
    "if the condition is false. It takes an expression and an optional error message as arguments, and evaluates the\n",
    "expression. If the expression is true, nothing happens and the program continues to execute. If the expression is \n",
    "false, the assert statement raises an AssertionError exception with the optional error message.\n",
    "\n",
    "Here's an example of using the assert statement to check that a variable x is not equal to zero:\n",
    "\n"
   ]
  },
  {
   "cell_type": "code",
   "execution_count": 1,
   "id": "95764467",
   "metadata": {},
   "outputs": [],
   "source": [
    "x = 5\n",
    "assert x != 0, \"x should not be zero\""
   ]
  },
  {
   "cell_type": "code",
   "execution_count": 2,
   "id": "42dff123",
   "metadata": {},
   "outputs": [
    {
     "ename": "AssertionError",
     "evalue": "this is not a valid statement",
     "output_type": "error",
     "traceback": [
      "\u001b[1;31m---------------------------------------------------------------------------\u001b[0m",
      "\u001b[1;31mAssertionError\u001b[0m                            Traceback (most recent call last)",
      "\u001b[1;32m~\\AppData\\Local\\Temp\\ipykernel_556\\1444976701.py\u001b[0m in \u001b[0;36m<module>\u001b[1;34m\u001b[0m\n\u001b[1;32m----> 1\u001b[1;33m \u001b[1;32massert\u001b[0m\u001b[1;33m(\u001b[0m\u001b[1;36m2\u001b[0m \u001b[1;33m==\u001b[0m \u001b[1;36m4\u001b[0m\u001b[1;33m)\u001b[0m\u001b[1;33m,\u001b[0m \u001b[1;34mf'this is not a valid statement'\u001b[0m\u001b[1;33m\u001b[0m\u001b[1;33m\u001b[0m\u001b[0m\n\u001b[0m",
      "\u001b[1;31mAssertionError\u001b[0m: this is not a valid statement"
     ]
    }
   ],
   "source": [
    "assert(2 == 4), f'this is not a valid statement'\n"
   ]
  },
  {
   "cell_type": "code",
   "execution_count": null,
   "id": "5ce7433a",
   "metadata": {},
   "outputs": [],
   "source": [
    "Q5. What is the purpose of the with/as argument, and what other statement is it like?\n",
    "\n",
    "ANSWER\n",
    "The with/as statement in Python is used for context management, particularly for resources that need to be acquired \n",
    "and released properly, such as files, sockets, and database connections. The with statement ensures that the resource\n",
    "is properly initialized and cleaned up, even in the presence of exceptions or other errors.\n",
    "The with/as statement is similar to a try/finally block, in that it ensures that a resource is properly cleaned up,\n",
    "but with a simpler syntax. The try/finally block can be used to achieve the same effect as with/as, but the with/as \n",
    "statement is more concise and easier to read. Additionally, the with/as statement is specifically designed for context\n",
    "management, while try/finally can be used for other purposes as well.\n",
    "\n",
    "Here's an example of using the with/as statement to open a file:\n",
    "\n",
    "with open('file.txt', 'r') as f:\n",
    "    contents = f.read()\n"
   ]
  },
  {
   "cell_type": "code",
   "execution_count": null,
   "id": "a2b33740",
   "metadata": {},
   "outputs": [],
   "source": []
  }
 ],
 "metadata": {
  "kernelspec": {
   "display_name": "Python 3 (ipykernel)",
   "language": "python",
   "name": "python3"
  },
  "language_info": {
   "codemirror_mode": {
    "name": "ipython",
    "version": 3
   },
   "file_extension": ".py",
   "mimetype": "text/x-python",
   "name": "python",
   "nbconvert_exporter": "python",
   "pygments_lexer": "ipython3",
   "version": "3.9.13"
  }
 },
 "nbformat": 4,
 "nbformat_minor": 5
}
