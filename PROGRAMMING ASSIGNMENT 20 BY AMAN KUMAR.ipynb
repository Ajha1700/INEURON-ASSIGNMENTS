{
 "cells": [
  {
   "cell_type": "code",
   "execution_count": null,
   "id": "f9ed6b93",
   "metadata": {},
   "outputs": [],
   "source": [
    "Question1\n",
    "Create a function that takes a list of strings and integers, and filters out the list so that it returns a list of integers\n",
    "only.\n",
    "Examples\n",
    "filter_list([1, 2, 3, \"a\", \"b\", 4]) ➞ [1, 2, 3, 4]\n",
    "\n",
    "filter_list([\"A\", 0, \"Edabit\", 1729, \"Python\", \"1729\"]) ➞ [0, 1729]\n",
    "\n",
    "filter_list([\"Nothing\", \"here\"]) ➞ []\n",
    "\n"
   ]
  },
  {
   "cell_type": "code",
   "execution_count": 1,
   "id": "cca6533b",
   "metadata": {},
   "outputs": [],
   "source": [
    "def filter_list(lst):\n",
    "    return [i for i in lst if isinstance(i, int)]\n"
   ]
  },
  {
   "cell_type": "code",
   "execution_count": 2,
   "id": "4c52d57f",
   "metadata": {},
   "outputs": [
    {
     "name": "stdout",
     "output_type": "stream",
     "text": [
      "[1, 2, 3, 4]\n",
      "[0, 1729]\n",
      "[]\n"
     ]
    }
   ],
   "source": [
    "print(filter_list([1, 2, 3, \"a\", \"b\", 4]))  \n",
    "print(filter_list([\"A\", 0, \"Edabit\", 1729, \"Python\", \"1729\"]))  \n",
    "print(filter_list([\"Nothing\", \"here\"])) \n"
   ]
  },
  {
   "cell_type": "code",
   "execution_count": null,
   "id": "18c08c8e",
   "metadata": {},
   "outputs": [],
   "source": [
    "Question2\n",
    "Given a list of numbers, create a function which returns the list but with each element's \n",
    "index in the list added to itself. This means you add 0 to the number at index 0, add 1 to the number at index 1, etc...\n",
    "Examples\n",
    "add_indexes([0, 0, 0, 0, 0]) ➞ [0, 1, 2, 3, 4]\n",
    "\n",
    "add_indexes([1, 2, 3, 4, 5]) ➞ [1, 3, 5, 7, 9]\n",
    "\n",
    "add_indexes([5, 4, 3, 2, 1]) ➞ [5, 5, 5, 5, 5]\n",
    "\n"
   ]
  },
  {
   "cell_type": "code",
   "execution_count": 3,
   "id": "17895ca9",
   "metadata": {},
   "outputs": [],
   "source": [
    "def add_indexes(lst):\n",
    "    return [i+idx for idx, i in enumerate(lst)]\n"
   ]
  },
  {
   "cell_type": "code",
   "execution_count": 4,
   "id": "3436b4d2",
   "metadata": {},
   "outputs": [
    {
     "name": "stdout",
     "output_type": "stream",
     "text": [
      "[0, 1, 2, 3, 4]\n",
      "[1, 3, 5, 7, 9]\n",
      "[5, 5, 5, 5, 5]\n"
     ]
    }
   ],
   "source": [
    "print(add_indexes([0, 0, 0, 0, 0]))  \n",
    "print(add_indexes([1, 2, 3, 4, 5])) \n",
    "print(add_indexes([5, 4, 3, 2, 1])) \n"
   ]
  },
  {
   "cell_type": "code",
   "execution_count": null,
   "id": "aad5fb91",
   "metadata": {},
   "outputs": [],
   "source": [
    "Question3\n",
    "Create a function that takes the height and radius of a cone as arguments and returns the volume of the cone rounded \n",
    "to the nearest hundredth. See the resources tab for the formula.\n",
    " \n",
    "Examples\n",
    "cone_volume(3, 2) ➞ 12.57\n",
    "\n",
    "cone_volume(15, 6) ➞ 565.49\n",
    "\n",
    "cone_volume(18, 0) ➞ 0\n",
    "\n",
    "\n",
    "\n"
   ]
  },
  {
   "cell_type": "code",
   "execution_count": 5,
   "id": "2cffe7d8",
   "metadata": {},
   "outputs": [],
   "source": [
    "import math\n",
    "\n",
    "def cone_volume(height, radius):\n",
    "    volume = (math.pi * radius**2 * height) / 3\n",
    "    return round(volume, 2)\n"
   ]
  },
  {
   "cell_type": "code",
   "execution_count": 6,
   "id": "75a942c1",
   "metadata": {},
   "outputs": [
    {
     "name": "stdout",
     "output_type": "stream",
     "text": [
      "12.57\n",
      "565.49\n",
      "0.0\n"
     ]
    }
   ],
   "source": [
    "print(cone_volume(3, 2))   \n",
    "print(cone_volume(15, 6))  \n",
    "print(cone_volume(18, 0))  "
   ]
  },
  {
   "cell_type": "code",
   "execution_count": null,
   "id": "d62cbc14",
   "metadata": {},
   "outputs": [],
   "source": [
    "Question4\n",
    "This Triangular Number Sequence is generated from a pattern of dots that form a triangle. The first 5 numbers of the sequence,\n",
    "or dots, are: \n",
    "1, 3, 6, 10, 15\n",
    "This means that the first triangle has just one dot, the second one has three dots, the third one has 6 dots and so on.\n",
    "Write a function that gives the number of dots with its corresponding triangle number of the sequence.\n",
    "Examples\n",
    "triangle(1) ➞ 1\n",
    "\n",
    "triangle(6) ➞ 21\n",
    "\n",
    "triangle(215) ➞ 23220\n",
    "\n"
   ]
  },
  {
   "cell_type": "code",
   "execution_count": 7,
   "id": "79dd8828",
   "metadata": {},
   "outputs": [],
   "source": [
    "def triangle(n):\n",
    "    return int(n * (n + 1) / 2)\n"
   ]
  },
  {
   "cell_type": "code",
   "execution_count": 9,
   "id": "a4a0eb69",
   "metadata": {},
   "outputs": [
    {
     "name": "stdout",
     "output_type": "stream",
     "text": [
      "1\n",
      "21\n",
      "23220\n"
     ]
    }
   ],
   "source": [
    "print(triangle(1))  \n",
    "print(triangle(6)) \n",
    "print(triangle(215))"
   ]
  },
  {
   "cell_type": "code",
   "execution_count": null,
   "id": "15617fcb",
   "metadata": {},
   "outputs": [],
   "source": [
    "Question5\n",
    "Create a function that takes a list of numbers between 1 and 10 (excluding one number) and returns the missing number.\n",
    "Examples\n",
    "missing_num([1, 2, 3, 4, 6, 7, 8, 9, 10]) ➞ 5\n",
    "\n",
    "missing_num([7, 2, 3, 6, 5, 9, 1, 4, 8]) ➞ 10\n",
    "\n",
    "missing_num([10, 5, 1, 2, 4, 6, 8, 3, 9]) ➞ 7\n"
   ]
  },
  {
   "cell_type": "code",
   "execution_count": 10,
   "id": "1de29982",
   "metadata": {},
   "outputs": [],
   "source": [
    "def missing_num(lst):\n",
    "    n = 10\n",
    "    total_sum = n*(n+1)/2\n",
    "    lst_sum = sum(lst)\n",
    "    return int(total_sum - lst_sum)\n"
   ]
  },
  {
   "cell_type": "code",
   "execution_count": 11,
   "id": "ed0c9905",
   "metadata": {},
   "outputs": [
    {
     "name": "stdout",
     "output_type": "stream",
     "text": [
      "5\n",
      "10\n",
      "7\n"
     ]
    }
   ],
   "source": [
    "print(missing_num([1, 2, 3, 4, 6, 7, 8, 9, 10]))  \n",
    "print(missing_num([7, 2, 3, 6, 5, 9, 1, 4, 8]))  \n",
    "print(missing_num([10, 5, 1, 2, 4, 6, 8, 3, 9]))  \n"
   ]
  },
  {
   "cell_type": "code",
   "execution_count": null,
   "id": "53cccf53",
   "metadata": {},
   "outputs": [],
   "source": []
  }
 ],
 "metadata": {
  "kernelspec": {
   "display_name": "Python 3 (ipykernel)",
   "language": "python",
   "name": "python3"
  },
  "language_info": {
   "codemirror_mode": {
    "name": "ipython",
    "version": 3
   },
   "file_extension": ".py",
   "mimetype": "text/x-python",
   "name": "python",
   "nbconvert_exporter": "python",
   "pygments_lexer": "ipython3",
   "version": "3.9.13"
  }
 },
 "nbformat": 4,
 "nbformat_minor": 5
}
