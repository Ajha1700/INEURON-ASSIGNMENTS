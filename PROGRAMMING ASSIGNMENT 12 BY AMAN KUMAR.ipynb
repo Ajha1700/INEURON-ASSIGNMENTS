{
 "cells": [
  {
   "cell_type": "code",
   "execution_count": null,
   "id": "bb868ec4",
   "metadata": {},
   "outputs": [],
   "source": [
    "1.Write a Python program to Extract Unique values dictionary values?\n"
   ]
  },
  {
   "cell_type": "code",
   "execution_count": 2,
   "id": "346dfdab",
   "metadata": {},
   "outputs": [
    {
     "name": "stdout",
     "output_type": "stream",
     "text": [
      "dict_values(['Aman', 'Badri', 'Ganga', 'Yamuna', 'Kavari', 'Tirupati', 'Kunal'])\n",
      "Unique Values: ['Kavari', 'Yamuna', 'Aman', 'Tirupati', 'Badri', 'Kunal', 'Ganga']\n"
     ]
    }
   ],
   "source": [
    "in_dict = {1:'Aman',2:'Badri',3:'Ganga',4:'Yamuna',5:'Kavari',6:'Tirupati',7:'Kunal'}\n",
    "print(in_dict.values())\n",
    "print(f'Unique Values: {list(set(in_dict.values()))}')"
   ]
  },
  {
   "cell_type": "code",
   "execution_count": null,
   "id": "0bbc4a03",
   "metadata": {},
   "outputs": [],
   "source": [
    "2.Write a Python program to find the sum of all items in a dictionary?\n"
   ]
  },
  {
   "cell_type": "code",
   "execution_count": 3,
   "id": "0b2fa28c",
   "metadata": {},
   "outputs": [
    {
     "name": "stdout",
     "output_type": "stream",
     "text": [
      "Sum of items in the dictionary: 1000\n"
     ]
    }
   ],
   "source": [
    "my_dict = {'a': 100, 'b': 200, 'c': 300, 'd': 400}\n",
    "\n",
    "\n",
    "sum_items = 0\n",
    "\n",
    "for value in my_dict.values():\n",
    "\n",
    "    sum_items += value\n",
    "\n",
    "\n",
    "print(\"Sum of items in the dictionary:\", sum_items)\n"
   ]
  },
  {
   "cell_type": "code",
   "execution_count": null,
   "id": "d7b940c0",
   "metadata": {},
   "outputs": [],
   "source": [
    "3.Write a Python program to Merging two Dictionaries?\n"
   ]
  },
  {
   "cell_type": "code",
   "execution_count": 4,
   "id": "5f17520f",
   "metadata": {},
   "outputs": [
    {
     "name": "stdout",
     "output_type": "stream",
     "text": [
      "Merged dictionary: {'a': 1, 'b': 2, 'c': 3, 'd': 4, 'e': 5, 'f': 6}\n"
     ]
    }
   ],
   "source": [
    "dict1 = {'a': 1, 'b': 2, 'c': 3}\n",
    "dict2 = {'d': 4, 'e': 5, 'f': 6}\n",
    "\n",
    "# Merge the two dictionaries using the update() method\n",
    "dict1.update(dict2)\n",
    "\n",
    "\n",
    "print(\"Merged dictionary:\", dict1)\n"
   ]
  },
  {
   "cell_type": "code",
   "execution_count": null,
   "id": "d63c29ef",
   "metadata": {},
   "outputs": [],
   "source": [
    "4.Write a Python program to convert key-values list to flat dictionary?\n"
   ]
  },
  {
   "cell_type": "code",
   "execution_count": 5,
   "id": "6e19422e",
   "metadata": {},
   "outputs": [
    {
     "name": "stdout",
     "output_type": "stream",
     "text": [
      "Flattened dictionary: {'a': 1, 'b': 2, 'c': 3, 'd': 4}\n"
     ]
    }
   ],
   "source": [
    "my_list = [('a', 1), ('b', 2), ('c', 3), ('d', 4)]\n",
    "\n",
    "flat_dict = {}\n",
    "\n",
    "for item in my_list:\n",
    "    key, value = item\n",
    "    flat_dict[key] = value\n",
    "\n",
    "\n",
    "print(\"Flattened dictionary:\", flat_dict)\n"
   ]
  },
  {
   "cell_type": "code",
   "execution_count": null,
   "id": "3cb35704",
   "metadata": {},
   "outputs": [],
   "source": [
    "5.Write a Python program to insertion at the beginning in OrderedDict?\n"
   ]
  },
  {
   "cell_type": "code",
   "execution_count": 6,
   "id": "f7b95592",
   "metadata": {},
   "outputs": [
    {
     "name": "stdout",
     "output_type": "stream",
     "text": [
      "Updated OrderedDict: OrderedDict([('a', 1), ('b', 2), ('c', 3), ('d', 4)])\n"
     ]
    }
   ],
   "source": [
    "from collections import OrderedDict\n",
    "\n",
    "my_dict = OrderedDict([('a', 1), ('b', 2), ('c', 3)])\n",
    "\n",
    "my_dict.update({'d': 4})\n",
    "\n",
    "print(\"Updated OrderedDict:\", my_dict)\n"
   ]
  },
  {
   "cell_type": "code",
   "execution_count": null,
   "id": "e636150c",
   "metadata": {},
   "outputs": [],
   "source": [
    "6.Write a Python program to check order of character in string using OrderedDict()?\n"
   ]
  },
  {
   "cell_type": "code",
   "execution_count": 7,
   "id": "c9213e22",
   "metadata": {},
   "outputs": [
    {
     "name": "stdout",
     "output_type": "stream",
     "text": [
      "Pattern found in string\n"
     ]
    }
   ],
   "source": [
    "from collections import OrderedDict\n",
    "\n",
    "def check_order(string, pattern):\n",
    "    \n",
    "    pattern_dict = OrderedDict.fromkeys(pattern)\n",
    "\n",
    "    pos = 0\n",
    "\n",
    "    for char in string:\n",
    "      \n",
    "        if char == pattern[pos]:\n",
    "            pos += 1\n",
    "            \n",
    "            if pos == len(pattern):\n",
    "                return True\n",
    "\n",
    "    return False\n",
    "\n",
    "\n",
    "string = \"hello world\"\n",
    "pattern = \"hlo\"\n",
    "if check_order(string, pattern):\n",
    "    print(\"Pattern found in string\")\n",
    "else:\n",
    "    print(\"Pattern not found in string\")\n"
   ]
  },
  {
   "cell_type": "code",
   "execution_count": null,
   "id": "afeb100a",
   "metadata": {},
   "outputs": [],
   "source": [
    "7.Write a Python program to sort Python Dictionaries by Key or Value?\n"
   ]
  },
  {
   "cell_type": "code",
   "execution_count": 8,
   "id": "b8f26e5d",
   "metadata": {},
   "outputs": [
    {
     "name": "stdout",
     "output_type": "stream",
     "text": [
      "Sorted dictionary by key: {'a': 1, 'b': 2, 'c': 3}\n",
      "Sorted dictionary by value: {'a': 1, 'b': 2, 'c': 3}\n"
     ]
    }
   ],
   "source": [
    "my_dict = {'b': 2, 'a': 1, 'c': 3}\n",
    "\n",
    "sorted_dict_by_key = dict(sorted(my_dict.items()))\n",
    "\n",
    "print(\"Sorted dictionary by key:\", sorted_dict_by_key)\n",
    "\n",
    "sorted_dict_by_value = dict(sorted(my_dict.items(), key=lambda x: x[1]))\n",
    "\n",
    "print(\"Sorted dictionary by value:\", sorted_dict_by_value)\n"
   ]
  },
  {
   "cell_type": "code",
   "execution_count": null,
   "id": "3a0846ee",
   "metadata": {},
   "outputs": [],
   "source": []
  }
 ],
 "metadata": {
  "kernelspec": {
   "display_name": "Python 3 (ipykernel)",
   "language": "python",
   "name": "python3"
  },
  "language_info": {
   "codemirror_mode": {
    "name": "ipython",
    "version": 3
   },
   "file_extension": ".py",
   "mimetype": "text/x-python",
   "name": "python",
   "nbconvert_exporter": "python",
   "pygments_lexer": "ipython3",
   "version": "3.9.13"
  }
 },
 "nbformat": 4,
 "nbformat_minor": 5
}
