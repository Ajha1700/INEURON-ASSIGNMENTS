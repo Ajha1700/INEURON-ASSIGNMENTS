{
 "cells": [
  {
   "cell_type": "code",
   "execution_count": null,
   "id": "6eb0de7e",
   "metadata": {},
   "outputs": [],
   "source": [
    "1.Write a Python Program to Find the Factorial of a Number?\n"
   ]
  },
  {
   "cell_type": "code",
   "execution_count": 1,
   "id": "707e96cc",
   "metadata": {},
   "outputs": [
    {
     "name": "stdout",
     "output_type": "stream",
     "text": [
      "Enter a positive integer: 56\n",
      "The sum of first 56 natural numbers is: 1596\n"
     ]
    }
   ],
   "source": [
    "\n",
    "num = int(input(\"Enter a positive integer: \"))\n",
    "\n",
    "sum = 0\n",
    "for i in range(1, num+1):\n",
    "    sum += i\n",
    "\n",
    "\n",
    "print(\"The sum of first\", num, \"natural numbers is:\", sum)\n"
   ]
  },
  {
   "cell_type": "code",
   "execution_count": null,
   "id": "66e54ce3",
   "metadata": {},
   "outputs": [],
   "source": [
    "2.Write a Python Program to Display the multiplication Table?"
   ]
  },
  {
   "cell_type": "code",
   "execution_count": 2,
   "id": "fb0c3613",
   "metadata": {},
   "outputs": [
    {
     "name": "stdout",
     "output_type": "stream",
     "text": [
      "Enter a number: 5\n",
      "Multiplication table of 5\n",
      "5 x 1 = 5\n",
      "5 x 2 = 10\n",
      "5 x 3 = 15\n",
      "5 x 4 = 20\n",
      "5 x 5 = 25\n",
      "5 x 6 = 30\n",
      "5 x 7 = 35\n",
      "5 x 8 = 40\n",
      "5 x 9 = 45\n",
      "5 x 10 = 50\n"
     ]
    }
   ],
   "source": [
    "num = int(input(\"Enter a number: \"))\n",
    "\n",
    "print(\"Multiplication table of\", num)\n",
    "for i in range(1, 11):\n",
    "    print(num, \"x\", i, \"=\", num*i)\n"
   ]
  },
  {
   "cell_type": "code",
   "execution_count": null,
   "id": "ae79f543",
   "metadata": {},
   "outputs": [],
   "source": [
    "3.Write a Python Program to Print the Fibonacci sequence?"
   ]
  },
  {
   "cell_type": "code",
   "execution_count": 5,
   "id": "334aa8d3",
   "metadata": {},
   "outputs": [
    {
     "name": "stdout",
     "output_type": "stream",
     "text": [
      "Enter the number of terms: 15\n",
      "Fibonacci sequence:\n",
      "0\n",
      "1\n",
      "1\n",
      "2\n",
      "3\n",
      "5\n",
      "8\n",
      "13\n",
      "21\n",
      "34\n",
      "55\n",
      "89\n",
      "144\n",
      "233\n",
      "377\n"
     ]
    }
   ],
   "source": [
    "\n",
    "num = int(input(\"Enter the number of terms: \"))\n",
    "\n",
    "\n",
    "a, b = 0, 1\n",
    "\n",
    "\n",
    "if num <= 0:\n",
    "    print(\"Invalid input! Please enter a positive integer.\")\n",
    "elif num == 1:\n",
    "    print(\"Fibonacci sequence:\")\n",
    "    print(a)\n",
    "else:\n",
    "    \n",
    "    print(\"Fibonacci sequence:\")\n",
    "    print(a)\n",
    "    print(b)\n",
    "    for i in range(2, num):\n",
    "        c = a + b\n",
    "        print(c)\n",
    "        a, b = b, c\n"
   ]
  },
  {
   "cell_type": "code",
   "execution_count": null,
   "id": "7253135e",
   "metadata": {},
   "outputs": [],
   "source": [
    "4.Write a Python Program to Check Armstrong Number?"
   ]
  },
  {
   "cell_type": "code",
   "execution_count": 6,
   "id": "2ac8818e",
   "metadata": {},
   "outputs": [
    {
     "name": "stdout",
     "output_type": "stream",
     "text": [
      "Enter a number: 55\n",
      "55 is not an Armstrong number\n"
     ]
    }
   ],
   "source": [
    "\n",
    "num = int(input(\"Enter a number: \"))\n",
    "\n",
    "num_digits = len(str(num))\n",
    "\n",
    "sum = 0\n",
    "\n",
    "temp = num\n",
    "while temp > 0:\n",
    "    digit = temp % 10\n",
    "    sum += digit ** num_digits\n",
    "    temp //= 10\n",
    "\n",
    "if num == sum:\n",
    "    print(num, \"is an Armstrong number\")\n",
    "else:\n",
    "    print(num, \"is not an Armstrong number\")\n"
   ]
  },
  {
   "cell_type": "code",
   "execution_count": null,
   "id": "a90cef52",
   "metadata": {},
   "outputs": [],
   "source": [
    "5.Write a Python Program to Find Armstrong Number in an Interval?"
   ]
  },
  {
   "cell_type": "code",
   "execution_count": 8,
   "id": "2e0ced15",
   "metadata": {},
   "outputs": [
    {
     "name": "stdout",
     "output_type": "stream",
     "text": [
      "Enter lower limit: 55\n",
      "Enter upper limit: 160\n",
      "Armstrong numbers in the interval 55 to 160 are:\n",
      "153\n"
     ]
    }
   ],
   "source": [
    "\n",
    "lower = int(input(\"Enter lower limit: \"))\n",
    "upper = int(input(\"Enter upper limit: \"))\n",
    "\n",
    "print(\"Armstrong numbers in the interval\", lower, \"to\", upper, \"are:\")\n",
    "\n",
    "for num in range(lower, upper + 1):\n",
    "    \n",
    "    num_digits = len(str(num))\n",
    "    sum = 0\n",
    "    temp = num\n",
    "    while temp > 0:\n",
    "        digit = temp % 10\n",
    "        sum += digit ** num_digits\n",
    "        temp //= 10\n",
    "\n",
    "    if num == sum:\n",
    "        print(num)\n"
   ]
  },
  {
   "cell_type": "code",
   "execution_count": null,
   "id": "2b7839f5",
   "metadata": {},
   "outputs": [],
   "source": [
    "6.Write a Python Program to Find the Sum of Natural Numbers?"
   ]
  },
  {
   "cell_type": "code",
   "execution_count": 9,
   "id": "2f020f10",
   "metadata": {},
   "outputs": [
    {
     "name": "stdout",
     "output_type": "stream",
     "text": [
      "Enter the number of terms: 25\n",
      "The sum of the first 25 natural numbers is 325\n"
     ]
    }
   ],
   "source": [
    "\n",
    "n = int(input(\"Enter the number of terms: \"))\n",
    "\n",
    "sum = 0\n",
    "\n",
    "for i in range(1, n + 1):\n",
    "    sum += i\n",
    "\n",
    "print(\"The sum of the first\", n, \"natural numbers is\", sum)\n"
   ]
  },
  {
   "cell_type": "code",
   "execution_count": null,
   "id": "6fb8a773",
   "metadata": {},
   "outputs": [],
   "source": []
  }
 ],
 "metadata": {
  "kernelspec": {
   "display_name": "Python 3 (ipykernel)",
   "language": "python",
   "name": "python3"
  },
  "language_info": {
   "codemirror_mode": {
    "name": "ipython",
    "version": 3
   },
   "file_extension": ".py",
   "mimetype": "text/x-python",
   "name": "python",
   "nbconvert_exporter": "python",
   "pygments_lexer": "ipython3",
   "version": "3.9.13"
  }
 },
 "nbformat": 4,
 "nbformat_minor": 5
}
