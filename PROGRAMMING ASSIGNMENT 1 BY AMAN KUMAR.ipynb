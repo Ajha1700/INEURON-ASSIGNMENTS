{
 "cells": [
  {
   "cell_type": "code",
   "execution_count": null,
   "id": "08567572",
   "metadata": {},
   "outputs": [],
   "source": [
    "1.Write a Python program to print \"Hello Python\"?\n"
   ]
  },
  {
   "cell_type": "code",
   "execution_count": 2,
   "id": "68c5eee4",
   "metadata": {},
   "outputs": [
    {
     "name": "stdout",
     "output_type": "stream",
     "text": [
      " Hello Python \n"
     ]
    }
   ],
   "source": [
    "print(\" Hello Python \")"
   ]
  },
  {
   "cell_type": "code",
   "execution_count": null,
   "id": "6101a6df",
   "metadata": {},
   "outputs": [],
   "source": [
    "2.Write a Python program to do arithmetical operations addition and division.?"
   ]
  },
  {
   "cell_type": "code",
   "execution_count": 1,
   "id": "649c0c86",
   "metadata": {},
   "outputs": [
    {
     "name": "stdout",
     "output_type": "stream",
     "text": [
      "Enter first number: 45\n",
      "Enter second number: 5\n",
      "Addition of 45.0 and 5.0 is 50.0\n",
      "Division of 45.0 and 5.0 is 9.0\n"
     ]
    }
   ],
   "source": [
    "\n",
    "num1 = float(input(\"Enter first number: \"))\n",
    "num2 = float(input(\"Enter second number: \"))\n",
    "\n",
    "# addition operation\n",
    "addition = num1 + num2\n",
    "\n",
    "# division operation\n",
    "division = num1 / num2\n",
    "\n",
    "print(\"Addition of {0} and {1} is {2}\".format(num1, num2, addition))\n",
    "print(\"Division of {0} and {1} is {2}\".format(num1, num2, division))\n"
   ]
  },
  {
   "cell_type": "code",
   "execution_count": null,
   "id": "57f4370c",
   "metadata": {},
   "outputs": [],
   "source": [
    "3.Write a Python program to find the area of a triangle?\n"
   ]
  },
  {
   "cell_type": "code",
   "execution_count": 2,
   "id": "5ad9c9f4",
   "metadata": {},
   "outputs": [
    {
     "name": "stdout",
     "output_type": "stream",
     "text": [
      "Enter the base of the triangle: 42\n",
      "Enter the height of the triangle: 66\n",
      "The area of the triangle is:  1386.0\n"
     ]
    }
   ],
   "source": [
    "\n",
    "base = float(input(\"Enter the base of the triangle: \"))\n",
    "height = float(input(\"Enter the height of the triangle: \"))\n",
    "\n",
    "# calculate the area of the triangle\n",
    "area = 0.5 * base * height\n",
    "print(\"The area of the triangle is: \", area)\n"
   ]
  },
  {
   "cell_type": "code",
   "execution_count": null,
   "id": "32bb3f0e",
   "metadata": {},
   "outputs": [],
   "source": [
    "4.Write a Python program to swap two variables?\n"
   ]
  },
  {
   "cell_type": "code",
   "execution_count": 3,
   "id": "28e0caaf",
   "metadata": {},
   "outputs": [
    {
     "name": "stdout",
     "output_type": "stream",
     "text": [
      "Enter the first variable: 5\n",
      "Enter the second variable: 2\n",
      "The value of the first variable after swapping:  2.0\n",
      "The value of the second variable after swapping:  5.0\n"
     ]
    }
   ],
   "source": [
    "\n",
    "a = float(input(\"Enter the first variable: \"))\n",
    "b = float(input(\"Enter the second variable: \"))\n",
    "\n",
    "c = a\n",
    "a = b\n",
    "b = c\n",
    "print(\"The value of the first variable after swapping: \", a)\n",
    "print(\"The value of the second variable after swapping: \", b)\n"
   ]
  },
  {
   "cell_type": "code",
   "execution_count": null,
   "id": "0e3559ae",
   "metadata": {},
   "outputs": [],
   "source": [
    "5.Write a Python program to generate a random number?\n"
   ]
  },
  {
   "cell_type": "code",
   "execution_count": 4,
   "id": "fc625a84",
   "metadata": {},
   "outputs": [
    {
     "name": "stdout",
     "output_type": "stream",
     "text": [
      "The generated random number is:  60\n"
     ]
    }
   ],
   "source": [
    "import random\n",
    "\n",
    "random_num = random.randint(0, 100)\n",
    "\n",
    "\n",
    "print(\"The generated random number is: \", random_num)\n"
   ]
  },
  {
   "cell_type": "code",
   "execution_count": null,
   "id": "a8ee83e0",
   "metadata": {},
   "outputs": [],
   "source": []
  }
 ],
 "metadata": {
  "kernelspec": {
   "display_name": "Python 3 (ipykernel)",
   "language": "python",
   "name": "python3"
  },
  "language_info": {
   "codemirror_mode": {
    "name": "ipython",
    "version": 3
   },
   "file_extension": ".py",
   "mimetype": "text/x-python",
   "name": "python",
   "nbconvert_exporter": "python",
   "pygments_lexer": "ipython3",
   "version": "3.9.13"
  }
 },
 "nbformat": 4,
 "nbformat_minor": 5
}
